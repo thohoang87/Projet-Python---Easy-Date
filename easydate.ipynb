{
  "cells": [
    {
      "cell_type": "markdown",
      "metadata": {
        "id": "view-in-github",
        "colab_type": "text"
      },
      "source": [
        "<a href=\"https://colab.research.google.com/github/thohoang87/Projet-Python---Easy-Date/blob/main/easydate.ipynb\" target=\"_parent\"><img src=\"https://colab.research.google.com/assets/colab-badge.svg\" alt=\"Open In Colab\"/></a>"
      ]
    },
    {
      "cell_type": "markdown",
      "source": [
        "On connecte le travail de google colab avec google drive"
      ],
      "metadata": {
        "id": "xAdzQsjVxkvY"
      }
    },
    {
      "cell_type": "code",
      "execution_count": 1,
      "metadata": {
        "colab": {
          "base_uri": "https://localhost:8080/"
        },
        "id": "Z6V79dETtMqc",
        "outputId": "fa1d3b66-55a4-4ac5-dd60-876dd4bd9ff9"
      },
      "outputs": [
        {
          "output_type": "stream",
          "name": "stdout",
          "text": [
            "Mounted at /content/drive/\n"
          ]
        }
      ],
      "source": [
        "from google.colab import drive\n",
        "drive.mount(\"/content/drive/\")"
      ]
    },
    {
      "cell_type": "markdown",
      "source": [
        "On importe les librairies essentielles : pandas, numpy, matplotlib, seaborn et joblib"
      ],
      "metadata": {
        "id": "E-1S26XrxtkC"
      }
    },
    {
      "cell_type": "code",
      "execution_count": 3,
      "metadata": {
        "id": "y5pDnEvLtxJC"
      },
      "outputs": [],
      "source": [
        "import pandas as pd\n",
        "import numpy as np\n",
        "import matplotlib.pyplot as plt\n",
        "import seaborn as sns\n",
        "import joblib"
      ]
    },
    {
      "cell_type": "markdown",
      "source": [
        "Importation des données du ficher \"Train\""
      ],
      "metadata": {
        "id": "dw7jSpvXtEez"
      }
    },
    {
      "cell_type": "code",
      "execution_count": 10,
      "metadata": {
        "id": "mu7Z-wx66Qhx"
      },
      "outputs": [],
      "source": [
        "data = pd.read_table(\"/content/drive/MyDrive/Colab Notebooks/train.csv\",sep=\";\",header=0,index_col=0)"
      ]
    },
    {
      "cell_type": "markdown",
      "source": [
        "On utilise la méthode info() pour afficher une description du data frame.\n",
        "\n",
        "On voit qu'il y a 6804 observations et 69 variables, et il y a quelques colonnes qui contiennent des valeurs manquantes.\n",
        "\n",
        "Et la variable cible est \"match\"."
      ],
      "metadata": {
        "id": "ds7mrBTOwJUn"
      }
    },
    {
      "cell_type": "code",
      "execution_count": 5,
      "metadata": {
        "colab": {
          "base_uri": "https://localhost:8080/"
        },
        "id": "o-SkHVuSyKun",
        "outputId": "918d10a0-2b77-4917-9e9b-673790c6efcf"
      },
      "outputs": [
        {
          "output_type": "stream",
          "name": "stdout",
          "text": [
            "<class 'pandas.core.frame.DataFrame'>\n",
            "Int64Index: 6804 entries, 6804 to 1\n",
            "Data columns (total 69 columns):\n",
            " #   Column    Non-Null Count  Dtype  \n",
            "---  ------    --------------  -----  \n",
            " 0   iid       6804 non-null   int64  \n",
            " 1   id        6804 non-null   int64  \n",
            " 2   gender    6804 non-null   int64  \n",
            " 3   idg       6804 non-null   int64  \n",
            " 4   condtn    6804 non-null   int64  \n",
            " 5   wave      6804 non-null   int64  \n",
            " 6   round     6804 non-null   int64  \n",
            " 7   position  6804 non-null   int64  \n",
            " 8   positin1  4958 non-null   float64\n",
            " 9   order     6804 non-null   int64  \n",
            " 10  partner   6804 non-null   int64  \n",
            " 11  pid       6794 non-null   float64\n",
            " 12  match     6804 non-null   int64  \n",
            " 13  int_corr  6646 non-null   object \n",
            " 14  samerace  6804 non-null   int64  \n",
            " 15  age_o     6722 non-null   float64\n",
            " 16  race_o    6731 non-null   float64\n",
            " 17  pf_o_att  6715 non-null   object \n",
            " 18  pf_o_sin  6715 non-null   object \n",
            " 19  pf_o_int  6715 non-null   object \n",
            " 20  pf_o_fun  6706 non-null   object \n",
            " 21  pf_o_amb  6697 non-null   object \n",
            " 22  pf_o_sha  6697 non-null   object \n",
            " 23  dec_o     6804 non-null   int64  \n",
            " 24  attr_o    6663 non-null   float64\n",
            " 25  sinc_o    6597 non-null   float64\n",
            " 26  intel_o   6575 non-null   float64\n",
            " 27  fun_o     6527 non-null   float64\n",
            " 28  amb_o     6223 non-null   float64\n",
            " 29  shar_o    5881 non-null   float64\n",
            " 30  age       6731 non-null   float64\n",
            " 31  field     6741 non-null   object \n",
            " 32  field_cd  6722 non-null   float64\n",
            " 33  race      6741 non-null   float64\n",
            " 34  imprace   6725 non-null   float64\n",
            " 35  imprelig  6725 non-null   float64\n",
            " 36  from      6725 non-null   object \n",
            " 37  zipcode   5908 non-null   object \n",
            " 38  income    3556 non-null   object \n",
            " 39  goal      6725 non-null   float64\n",
            " 40  date      6707 non-null   float64\n",
            " 41  go_out    6725 non-null   float64\n",
            " 42  career    6715 non-null   object \n",
            " 43  career_c  6652 non-null   float64\n",
            " 44  sports    6711 non-null   float64\n",
            " 45  tvsports  6711 non-null   float64\n",
            " 46  exercise  6711 non-null   float64\n",
            " 47  dining    6711 non-null   float64\n",
            " 48  museums   6711 non-null   float64\n",
            " 49  art       6711 non-null   float64\n",
            " 50  hiking    6711 non-null   float64\n",
            " 51  gaming    6711 non-null   float64\n",
            " 52  clubbing  6711 non-null   float64\n",
            " 53  reading   6711 non-null   float64\n",
            " 54  tv        6711 non-null   float64\n",
            " 55  theater   6711 non-null   float64\n",
            " 56  movies    6711 non-null   float64\n",
            " 57  concerts  6711 non-null   float64\n",
            " 58  music     6711 non-null   float64\n",
            " 59  shopping  6711 non-null   float64\n",
            " 60  yoga      6711 non-null   float64\n",
            " 61  exphappy  6711 non-null   float64\n",
            " 62  expnum    1800 non-null   float64\n",
            " 63  attr1_1   6711 non-null   object \n",
            " 64  sinc1_1   6711 non-null   object \n",
            " 65  intel1_1  6711 non-null   object \n",
            " 66  fun1_1    6701 non-null   object \n",
            " 67  amb1_1    6691 non-null   object \n",
            " 68  shar1_1   6691 non-null   object \n",
            "dtypes: float64(38), int64(13), object(18)\n",
            "memory usage: 3.6+ MB\n"
          ]
        }
      ],
      "source": [
        "data.info()"
      ]
    },
    {
      "cell_type": "markdown",
      "metadata": {
        "id": "jbcBLxzrqBbi"
      },
      "source": [
        "# Data cleaning"
      ]
    },
    {
      "cell_type": "markdown",
      "source": [
        "On supprime les variables inutiles:\n",
        "- les variables du type identifiant qui ne sont pas uniques : iid,id,idg,pid,partner\n",
        "- les variables doublons : \n",
        "  + \"field\" est en doublon avec \"field_cd\";\n",
        "  + \"career\" est en doublon avec \"career_c\";\n",
        "  + \"from\" est en doublon avec \"zipcode\".\n",
        "- la variable \"dec_o\" est la décision du partenaire après la rencontre, alors ce qui nous intéresse c'est la prédiction à partir des variables créées avant la rencontre.\n",
        "- les variables \"position\",\"positin1\",\"wave\",\"round\",\"order\" sont mises en place pour les rencontres, et elles n'existent pas dans le fichier \"submission\"."
      ],
      "metadata": {
        "id": "rY5IAwfetNyk"
      }
    },
    {
      "cell_type": "code",
      "execution_count": 11,
      "metadata": {
        "id": "E_J0CIhjL3Km"
      },
      "outputs": [],
      "source": [
        "data.drop([\"dec_o\",\"field\",\"career\",\"expnum\",\"iid\",\"id\",\"idg\",\"pid\",\"partner\",\n",
        "           \"from\",\"position\",\"positin1\",\"wave\",'round', 'order'],axis=1,inplace=True)"
      ]
    },
    {
      "cell_type": "markdown",
      "source": [
        "On remplace des \",\" (virgule) par les \".\" (points) et transforme les variables en type \"float\"."
      ],
      "metadata": {
        "id": "S1-hHRFcus0S"
      }
    },
    {
      "cell_type": "code",
      "execution_count": 12,
      "metadata": {
        "id": "Nb2SSJUMl619"
      },
      "outputs": [],
      "source": [
        "col_replaced1 = [\"int_corr\",\"pf_o_att\",\"pf_o_int\",\"pf_o_fun\",\"pf_o_amb\",\n",
        "                 \"pf_o_sha\",\"pf_o_sin\",\"attr1_1\",\"sinc1_1\",\"intel1_1\",\"fun1_1\",\"amb1_1\",\"shar1_1\"]\n",
        "def col_convert1(data,col_replaced):\n",
        "  for col in col_replaced:\n",
        "    data[col] = data[col].apply(lambda x: float(str(x).replace(',','.')))\n",
        "col_convert1(data,col_replaced1)"
      ]
    },
    {
      "cell_type": "markdown",
      "source": [
        "On enlève la virgule (,) et transforme les variables \"zipcode\" et \"income\" en type \"float\"."
      ],
      "metadata": {
        "id": "yt8emPngu6s7"
      }
    },
    {
      "cell_type": "code",
      "execution_count": 13,
      "metadata": {
        "id": "dsNBj0YbV7gM"
      },
      "outputs": [],
      "source": [
        "data[\"zipcode\"] = data[\"zipcode\"].apply(lambda x: float(str(x).replace(',','')))\n",
        "data[\"income\"] = data[\"income\"].apply(lambda x: float(str(x).replace(',','')))"
      ]
    },
    {
      "cell_type": "markdown",
      "source": [
        "On observe les valeurs manquantes"
      ],
      "metadata": {
        "id": "X8V8B1awvEza"
      }
    },
    {
      "cell_type": "code",
      "source": [
        "data.isna().sum()"
      ],
      "metadata": {
        "colab": {
          "base_uri": "https://localhost:8080/"
        },
        "id": "ytejqbAHw21i",
        "outputId": "9df067a3-7050-4381-8af8-c77c199e732c"
      },
      "execution_count": 14,
      "outputs": [
        {
          "output_type": "execute_result",
          "data": {
            "text/plain": [
              "gender         0\n",
              "condtn         0\n",
              "match          0\n",
              "int_corr     158\n",
              "samerace       0\n",
              "age_o         82\n",
              "race_o        73\n",
              "pf_o_att      89\n",
              "pf_o_sin      89\n",
              "pf_o_int      89\n",
              "pf_o_fun      98\n",
              "pf_o_amb     107\n",
              "pf_o_sha     107\n",
              "attr_o       141\n",
              "sinc_o       207\n",
              "intel_o      229\n",
              "fun_o        277\n",
              "amb_o        581\n",
              "shar_o       923\n",
              "age           73\n",
              "field_cd      82\n",
              "race          63\n",
              "imprace       79\n",
              "imprelig      79\n",
              "zipcode      896\n",
              "income      3248\n",
              "goal          79\n",
              "date          97\n",
              "go_out        79\n",
              "career_c     152\n",
              "sports        93\n",
              "tvsports      93\n",
              "exercise      93\n",
              "dining        93\n",
              "museums       93\n",
              "art           93\n",
              "hiking        93\n",
              "gaming        93\n",
              "clubbing      93\n",
              "reading       93\n",
              "tv            93\n",
              "theater       93\n",
              "movies        93\n",
              "concerts      93\n",
              "music         93\n",
              "shopping      93\n",
              "yoga          93\n",
              "exphappy      93\n",
              "attr1_1       93\n",
              "sinc1_1       93\n",
              "intel1_1      93\n",
              "fun1_1       103\n",
              "amb1_1       113\n",
              "shar1_1      113\n",
              "dtype: int64"
            ]
          },
          "metadata": {},
          "execution_count": 14
        }
      ]
    },
    {
      "cell_type": "markdown",
      "source": [
        "On remplace les valeurs manquantes par la moyenne"
      ],
      "metadata": {
        "id": "lyRmmJNRAPTm"
      }
    },
    {
      "cell_type": "code",
      "source": [
        "def columns_filled(data,columns):\n",
        "  for col in columns:\n",
        "    mean = data[col].mean()\n",
        "    data[col] = data[col].fillna(mean)\n",
        "columns_filled(data,data.columns)"
      ],
      "metadata": {
        "id": "Zc1QFkJf9Pus"
      },
      "execution_count": 15,
      "outputs": []
    },
    {
      "cell_type": "markdown",
      "source": [
        "On voit que les données sont \"propres\" et \"prêtes à l'emploi\" maintenant"
      ],
      "metadata": {
        "id": "Vl6SgT-vxVpB"
      }
    },
    {
      "cell_type": "code",
      "source": [
        "data.info()"
      ],
      "metadata": {
        "id": "UkM3Cikjxf_j",
        "colab": {
          "base_uri": "https://localhost:8080/"
        },
        "outputId": "7c391b49-fed4-462f-9a55-b84699400b4f"
      },
      "execution_count": 16,
      "outputs": [
        {
          "output_type": "stream",
          "name": "stdout",
          "text": [
            "<class 'pandas.core.frame.DataFrame'>\n",
            "Int64Index: 6804 entries, 6804 to 1\n",
            "Data columns (total 54 columns):\n",
            " #   Column    Non-Null Count  Dtype  \n",
            "---  ------    --------------  -----  \n",
            " 0   gender    6804 non-null   int64  \n",
            " 1   condtn    6804 non-null   int64  \n",
            " 2   match     6804 non-null   int64  \n",
            " 3   int_corr  6804 non-null   float64\n",
            " 4   samerace  6804 non-null   int64  \n",
            " 5   age_o     6804 non-null   float64\n",
            " 6   race_o    6804 non-null   float64\n",
            " 7   pf_o_att  6804 non-null   float64\n",
            " 8   pf_o_sin  6804 non-null   float64\n",
            " 9   pf_o_int  6804 non-null   float64\n",
            " 10  pf_o_fun  6804 non-null   float64\n",
            " 11  pf_o_amb  6804 non-null   float64\n",
            " 12  pf_o_sha  6804 non-null   float64\n",
            " 13  attr_o    6804 non-null   float64\n",
            " 14  sinc_o    6804 non-null   float64\n",
            " 15  intel_o   6804 non-null   float64\n",
            " 16  fun_o     6804 non-null   float64\n",
            " 17  amb_o     6804 non-null   float64\n",
            " 18  shar_o    6804 non-null   float64\n",
            " 19  age       6804 non-null   float64\n",
            " 20  field_cd  6804 non-null   float64\n",
            " 21  race      6804 non-null   float64\n",
            " 22  imprace   6804 non-null   float64\n",
            " 23  imprelig  6804 non-null   float64\n",
            " 24  zipcode   6804 non-null   float64\n",
            " 25  income    6804 non-null   float64\n",
            " 26  goal      6804 non-null   float64\n",
            " 27  date      6804 non-null   float64\n",
            " 28  go_out    6804 non-null   float64\n",
            " 29  career_c  6804 non-null   float64\n",
            " 30  sports    6804 non-null   float64\n",
            " 31  tvsports  6804 non-null   float64\n",
            " 32  exercise  6804 non-null   float64\n",
            " 33  dining    6804 non-null   float64\n",
            " 34  museums   6804 non-null   float64\n",
            " 35  art       6804 non-null   float64\n",
            " 36  hiking    6804 non-null   float64\n",
            " 37  gaming    6804 non-null   float64\n",
            " 38  clubbing  6804 non-null   float64\n",
            " 39  reading   6804 non-null   float64\n",
            " 40  tv        6804 non-null   float64\n",
            " 41  theater   6804 non-null   float64\n",
            " 42  movies    6804 non-null   float64\n",
            " 43  concerts  6804 non-null   float64\n",
            " 44  music     6804 non-null   float64\n",
            " 45  shopping  6804 non-null   float64\n",
            " 46  yoga      6804 non-null   float64\n",
            " 47  exphappy  6804 non-null   float64\n",
            " 48  attr1_1   6804 non-null   float64\n",
            " 49  sinc1_1   6804 non-null   float64\n",
            " 50  intel1_1  6804 non-null   float64\n",
            " 51  fun1_1    6804 non-null   float64\n",
            " 52  amb1_1    6804 non-null   float64\n",
            " 53  shar1_1   6804 non-null   float64\n",
            "dtypes: float64(50), int64(4)\n",
            "memory usage: 2.9 MB\n"
          ]
        }
      ]
    },
    {
      "cell_type": "code",
      "source": [
        "data.to_csv(\"data_cleaned.csv\")"
      ],
      "metadata": {
        "id": "TAFo5uw_yrLT"
      },
      "execution_count": 17,
      "outputs": []
    },
    {
      "cell_type": "markdown",
      "metadata": {
        "id": "hZsl8sbzicPw"
      },
      "source": [
        "# Analyes des variables"
      ]
    },
    {
      "cell_type": "markdown",
      "source": [
        "Quelques statistiques élémentaires sur les données"
      ],
      "metadata": {
        "id": "ni0hkEOdvTzc"
      }
    },
    {
      "cell_type": "code",
      "execution_count": 18,
      "metadata": {
        "colab": {
          "base_uri": "https://localhost:8080/",
          "height": 394
        },
        "id": "tAzeSDF8ly8U",
        "outputId": "48f29c8c-da60-49cc-edf2-384f1cc0d067"
      },
      "outputs": [
        {
          "output_type": "execute_result",
          "data": {
            "text/plain": [
              "            gender       condtn        match     int_corr     samerace  \\\n",
              "count  6804.000000  6804.000000  6804.000000  6804.000000  6804.000000   \n",
              "mean      0.500735     1.812169     0.168430     0.196088     0.411229   \n",
              "std       0.500036     0.390606     0.374275     0.299530     0.492093   \n",
              "min       0.000000     1.000000     0.000000    -0.830000     0.000000   \n",
              "25%       0.000000     2.000000     0.000000    -0.010000     0.000000   \n",
              "50%       1.000000     2.000000     0.000000     0.200000     0.000000   \n",
              "75%       1.000000     2.000000     0.000000     0.420000     1.000000   \n",
              "max       1.000000     2.000000     1.000000     0.900000     1.000000   \n",
              "\n",
              "             age_o       race_o     pf_o_att     pf_o_sin     pf_o_int  ...  \\\n",
              "count  6804.000000  6804.000000  6804.000000  6804.000000  6804.000000  ...   \n",
              "mean     26.370872     2.696182    22.229327    17.448046    20.270785  ...   \n",
              "std       3.544273     1.207776    12.621446     6.936095     6.884816  ...   \n",
              "min      18.000000     1.000000     0.000000     0.000000     0.000000  ...   \n",
              "25%      24.000000     2.000000    15.000000    15.000000    17.310000  ...   \n",
              "50%      26.000000     2.000000    20.000000    18.000000    20.000000  ...   \n",
              "75%      28.000000     4.000000    25.000000    20.000000    23.000000  ...   \n",
              "max      42.000000     6.000000   100.000000    60.000000    50.000000  ...   \n",
              "\n",
              "             music     shopping         yoga     exphappy      attr1_1  \\\n",
              "count  6804.000000  6804.000000  6804.000000  6804.000000  6804.000000   \n",
              "mean      7.852332     5.543883     4.287588     5.474445    22.264481   \n",
              "std       1.776116     2.616472     2.704327     1.695701    12.650579   \n",
              "min       1.000000     1.000000     0.000000     1.000000     0.000000   \n",
              "25%       7.000000     3.000000     2.000000     5.000000    15.000000   \n",
              "50%       8.000000     6.000000     4.000000     6.000000    20.000000   \n",
              "75%       9.000000     8.000000     7.000000     7.000000    25.000000   \n",
              "max      10.000000    10.000000    10.000000    10.000000   100.000000   \n",
              "\n",
              "           sinc1_1     intel1_1       fun1_1       amb1_1     shar1_1  \n",
              "count  6804.000000  6804.000000  6804.000000  6804.000000  6804.00000  \n",
              "mean     17.444141    20.269158    17.366577    11.063479    11.79242  \n",
              "std       6.944336     6.889086     6.092877     6.143387     6.16272  \n",
              "min       0.000000     0.000000     0.000000     0.000000     0.00000  \n",
              "25%      15.000000    17.310000    15.000000     5.000000    10.00000  \n",
              "50%      18.000000    20.000000    17.950000    10.000000    11.00000  \n",
              "75%      20.000000    23.000000    20.000000    15.000000    15.38000  \n",
              "max      60.000000    50.000000    50.000000    53.000000    30.00000  \n",
              "\n",
              "[8 rows x 54 columns]"
            ],
            "text/html": [
              "\n",
              "  <div id=\"df-44392765-72eb-43d4-91c3-43f0ceaab535\">\n",
              "    <div class=\"colab-df-container\">\n",
              "      <div>\n",
              "<style scoped>\n",
              "    .dataframe tbody tr th:only-of-type {\n",
              "        vertical-align: middle;\n",
              "    }\n",
              "\n",
              "    .dataframe tbody tr th {\n",
              "        vertical-align: top;\n",
              "    }\n",
              "\n",
              "    .dataframe thead th {\n",
              "        text-align: right;\n",
              "    }\n",
              "</style>\n",
              "<table border=\"1\" class=\"dataframe\">\n",
              "  <thead>\n",
              "    <tr style=\"text-align: right;\">\n",
              "      <th></th>\n",
              "      <th>gender</th>\n",
              "      <th>condtn</th>\n",
              "      <th>match</th>\n",
              "      <th>int_corr</th>\n",
              "      <th>samerace</th>\n",
              "      <th>age_o</th>\n",
              "      <th>race_o</th>\n",
              "      <th>pf_o_att</th>\n",
              "      <th>pf_o_sin</th>\n",
              "      <th>pf_o_int</th>\n",
              "      <th>...</th>\n",
              "      <th>music</th>\n",
              "      <th>shopping</th>\n",
              "      <th>yoga</th>\n",
              "      <th>exphappy</th>\n",
              "      <th>attr1_1</th>\n",
              "      <th>sinc1_1</th>\n",
              "      <th>intel1_1</th>\n",
              "      <th>fun1_1</th>\n",
              "      <th>amb1_1</th>\n",
              "      <th>shar1_1</th>\n",
              "    </tr>\n",
              "  </thead>\n",
              "  <tbody>\n",
              "    <tr>\n",
              "      <th>count</th>\n",
              "      <td>6804.000000</td>\n",
              "      <td>6804.000000</td>\n",
              "      <td>6804.000000</td>\n",
              "      <td>6804.000000</td>\n",
              "      <td>6804.000000</td>\n",
              "      <td>6804.000000</td>\n",
              "      <td>6804.000000</td>\n",
              "      <td>6804.000000</td>\n",
              "      <td>6804.000000</td>\n",
              "      <td>6804.000000</td>\n",
              "      <td>...</td>\n",
              "      <td>6804.000000</td>\n",
              "      <td>6804.000000</td>\n",
              "      <td>6804.000000</td>\n",
              "      <td>6804.000000</td>\n",
              "      <td>6804.000000</td>\n",
              "      <td>6804.000000</td>\n",
              "      <td>6804.000000</td>\n",
              "      <td>6804.000000</td>\n",
              "      <td>6804.000000</td>\n",
              "      <td>6804.00000</td>\n",
              "    </tr>\n",
              "    <tr>\n",
              "      <th>mean</th>\n",
              "      <td>0.500735</td>\n",
              "      <td>1.812169</td>\n",
              "      <td>0.168430</td>\n",
              "      <td>0.196088</td>\n",
              "      <td>0.411229</td>\n",
              "      <td>26.370872</td>\n",
              "      <td>2.696182</td>\n",
              "      <td>22.229327</td>\n",
              "      <td>17.448046</td>\n",
              "      <td>20.270785</td>\n",
              "      <td>...</td>\n",
              "      <td>7.852332</td>\n",
              "      <td>5.543883</td>\n",
              "      <td>4.287588</td>\n",
              "      <td>5.474445</td>\n",
              "      <td>22.264481</td>\n",
              "      <td>17.444141</td>\n",
              "      <td>20.269158</td>\n",
              "      <td>17.366577</td>\n",
              "      <td>11.063479</td>\n",
              "      <td>11.79242</td>\n",
              "    </tr>\n",
              "    <tr>\n",
              "      <th>std</th>\n",
              "      <td>0.500036</td>\n",
              "      <td>0.390606</td>\n",
              "      <td>0.374275</td>\n",
              "      <td>0.299530</td>\n",
              "      <td>0.492093</td>\n",
              "      <td>3.544273</td>\n",
              "      <td>1.207776</td>\n",
              "      <td>12.621446</td>\n",
              "      <td>6.936095</td>\n",
              "      <td>6.884816</td>\n",
              "      <td>...</td>\n",
              "      <td>1.776116</td>\n",
              "      <td>2.616472</td>\n",
              "      <td>2.704327</td>\n",
              "      <td>1.695701</td>\n",
              "      <td>12.650579</td>\n",
              "      <td>6.944336</td>\n",
              "      <td>6.889086</td>\n",
              "      <td>6.092877</td>\n",
              "      <td>6.143387</td>\n",
              "      <td>6.16272</td>\n",
              "    </tr>\n",
              "    <tr>\n",
              "      <th>min</th>\n",
              "      <td>0.000000</td>\n",
              "      <td>1.000000</td>\n",
              "      <td>0.000000</td>\n",
              "      <td>-0.830000</td>\n",
              "      <td>0.000000</td>\n",
              "      <td>18.000000</td>\n",
              "      <td>1.000000</td>\n",
              "      <td>0.000000</td>\n",
              "      <td>0.000000</td>\n",
              "      <td>0.000000</td>\n",
              "      <td>...</td>\n",
              "      <td>1.000000</td>\n",
              "      <td>1.000000</td>\n",
              "      <td>0.000000</td>\n",
              "      <td>1.000000</td>\n",
              "      <td>0.000000</td>\n",
              "      <td>0.000000</td>\n",
              "      <td>0.000000</td>\n",
              "      <td>0.000000</td>\n",
              "      <td>0.000000</td>\n",
              "      <td>0.00000</td>\n",
              "    </tr>\n",
              "    <tr>\n",
              "      <th>25%</th>\n",
              "      <td>0.000000</td>\n",
              "      <td>2.000000</td>\n",
              "      <td>0.000000</td>\n",
              "      <td>-0.010000</td>\n",
              "      <td>0.000000</td>\n",
              "      <td>24.000000</td>\n",
              "      <td>2.000000</td>\n",
              "      <td>15.000000</td>\n",
              "      <td>15.000000</td>\n",
              "      <td>17.310000</td>\n",
              "      <td>...</td>\n",
              "      <td>7.000000</td>\n",
              "      <td>3.000000</td>\n",
              "      <td>2.000000</td>\n",
              "      <td>5.000000</td>\n",
              "      <td>15.000000</td>\n",
              "      <td>15.000000</td>\n",
              "      <td>17.310000</td>\n",
              "      <td>15.000000</td>\n",
              "      <td>5.000000</td>\n",
              "      <td>10.00000</td>\n",
              "    </tr>\n",
              "    <tr>\n",
              "      <th>50%</th>\n",
              "      <td>1.000000</td>\n",
              "      <td>2.000000</td>\n",
              "      <td>0.000000</td>\n",
              "      <td>0.200000</td>\n",
              "      <td>0.000000</td>\n",
              "      <td>26.000000</td>\n",
              "      <td>2.000000</td>\n",
              "      <td>20.000000</td>\n",
              "      <td>18.000000</td>\n",
              "      <td>20.000000</td>\n",
              "      <td>...</td>\n",
              "      <td>8.000000</td>\n",
              "      <td>6.000000</td>\n",
              "      <td>4.000000</td>\n",
              "      <td>6.000000</td>\n",
              "      <td>20.000000</td>\n",
              "      <td>18.000000</td>\n",
              "      <td>20.000000</td>\n",
              "      <td>17.950000</td>\n",
              "      <td>10.000000</td>\n",
              "      <td>11.00000</td>\n",
              "    </tr>\n",
              "    <tr>\n",
              "      <th>75%</th>\n",
              "      <td>1.000000</td>\n",
              "      <td>2.000000</td>\n",
              "      <td>0.000000</td>\n",
              "      <td>0.420000</td>\n",
              "      <td>1.000000</td>\n",
              "      <td>28.000000</td>\n",
              "      <td>4.000000</td>\n",
              "      <td>25.000000</td>\n",
              "      <td>20.000000</td>\n",
              "      <td>23.000000</td>\n",
              "      <td>...</td>\n",
              "      <td>9.000000</td>\n",
              "      <td>8.000000</td>\n",
              "      <td>7.000000</td>\n",
              "      <td>7.000000</td>\n",
              "      <td>25.000000</td>\n",
              "      <td>20.000000</td>\n",
              "      <td>23.000000</td>\n",
              "      <td>20.000000</td>\n",
              "      <td>15.000000</td>\n",
              "      <td>15.38000</td>\n",
              "    </tr>\n",
              "    <tr>\n",
              "      <th>max</th>\n",
              "      <td>1.000000</td>\n",
              "      <td>2.000000</td>\n",
              "      <td>1.000000</td>\n",
              "      <td>0.900000</td>\n",
              "      <td>1.000000</td>\n",
              "      <td>42.000000</td>\n",
              "      <td>6.000000</td>\n",
              "      <td>100.000000</td>\n",
              "      <td>60.000000</td>\n",
              "      <td>50.000000</td>\n",
              "      <td>...</td>\n",
              "      <td>10.000000</td>\n",
              "      <td>10.000000</td>\n",
              "      <td>10.000000</td>\n",
              "      <td>10.000000</td>\n",
              "      <td>100.000000</td>\n",
              "      <td>60.000000</td>\n",
              "      <td>50.000000</td>\n",
              "      <td>50.000000</td>\n",
              "      <td>53.000000</td>\n",
              "      <td>30.00000</td>\n",
              "    </tr>\n",
              "  </tbody>\n",
              "</table>\n",
              "<p>8 rows × 54 columns</p>\n",
              "</div>\n",
              "      <button class=\"colab-df-convert\" onclick=\"convertToInteractive('df-44392765-72eb-43d4-91c3-43f0ceaab535')\"\n",
              "              title=\"Convert this dataframe to an interactive table.\"\n",
              "              style=\"display:none;\">\n",
              "        \n",
              "  <svg xmlns=\"http://www.w3.org/2000/svg\" height=\"24px\"viewBox=\"0 0 24 24\"\n",
              "       width=\"24px\">\n",
              "    <path d=\"M0 0h24v24H0V0z\" fill=\"none\"/>\n",
              "    <path d=\"M18.56 5.44l.94 2.06.94-2.06 2.06-.94-2.06-.94-.94-2.06-.94 2.06-2.06.94zm-11 1L8.5 8.5l.94-2.06 2.06-.94-2.06-.94L8.5 2.5l-.94 2.06-2.06.94zm10 10l.94 2.06.94-2.06 2.06-.94-2.06-.94-.94-2.06-.94 2.06-2.06.94z\"/><path d=\"M17.41 7.96l-1.37-1.37c-.4-.4-.92-.59-1.43-.59-.52 0-1.04.2-1.43.59L10.3 9.45l-7.72 7.72c-.78.78-.78 2.05 0 2.83L4 21.41c.39.39.9.59 1.41.59.51 0 1.02-.2 1.41-.59l7.78-7.78 2.81-2.81c.8-.78.8-2.07 0-2.86zM5.41 20L4 18.59l7.72-7.72 1.47 1.35L5.41 20z\"/>\n",
              "  </svg>\n",
              "      </button>\n",
              "      \n",
              "  <style>\n",
              "    .colab-df-container {\n",
              "      display:flex;\n",
              "      flex-wrap:wrap;\n",
              "      gap: 12px;\n",
              "    }\n",
              "\n",
              "    .colab-df-convert {\n",
              "      background-color: #E8F0FE;\n",
              "      border: none;\n",
              "      border-radius: 50%;\n",
              "      cursor: pointer;\n",
              "      display: none;\n",
              "      fill: #1967D2;\n",
              "      height: 32px;\n",
              "      padding: 0 0 0 0;\n",
              "      width: 32px;\n",
              "    }\n",
              "\n",
              "    .colab-df-convert:hover {\n",
              "      background-color: #E2EBFA;\n",
              "      box-shadow: 0px 1px 2px rgba(60, 64, 67, 0.3), 0px 1px 3px 1px rgba(60, 64, 67, 0.15);\n",
              "      fill: #174EA6;\n",
              "    }\n",
              "\n",
              "    [theme=dark] .colab-df-convert {\n",
              "      background-color: #3B4455;\n",
              "      fill: #D2E3FC;\n",
              "    }\n",
              "\n",
              "    [theme=dark] .colab-df-convert:hover {\n",
              "      background-color: #434B5C;\n",
              "      box-shadow: 0px 1px 3px 1px rgba(0, 0, 0, 0.15);\n",
              "      filter: drop-shadow(0px 1px 2px rgba(0, 0, 0, 0.3));\n",
              "      fill: #FFFFFF;\n",
              "    }\n",
              "  </style>\n",
              "\n",
              "      <script>\n",
              "        const buttonEl =\n",
              "          document.querySelector('#df-44392765-72eb-43d4-91c3-43f0ceaab535 button.colab-df-convert');\n",
              "        buttonEl.style.display =\n",
              "          google.colab.kernel.accessAllowed ? 'block' : 'none';\n",
              "\n",
              "        async function convertToInteractive(key) {\n",
              "          const element = document.querySelector('#df-44392765-72eb-43d4-91c3-43f0ceaab535');\n",
              "          const dataTable =\n",
              "            await google.colab.kernel.invokeFunction('convertToInteractive',\n",
              "                                                     [key], {});\n",
              "          if (!dataTable) return;\n",
              "\n",
              "          const docLinkHtml = 'Like what you see? Visit the ' +\n",
              "            '<a target=\"_blank\" href=https://colab.research.google.com/notebooks/data_table.ipynb>data table notebook</a>'\n",
              "            + ' to learn more about interactive tables.';\n",
              "          element.innerHTML = '';\n",
              "          dataTable['output_type'] = 'display_data';\n",
              "          await google.colab.output.renderOutput(dataTable, element);\n",
              "          const docLink = document.createElement('div');\n",
              "          docLink.innerHTML = docLinkHtml;\n",
              "          element.appendChild(docLink);\n",
              "        }\n",
              "      </script>\n",
              "    </div>\n",
              "  </div>\n",
              "  "
            ]
          },
          "metadata": {},
          "execution_count": 18
        }
      ],
      "source": [
        "data.describe(include=\"all\")"
      ]
    },
    {
      "cell_type": "markdown",
      "source": [
        "On analyse la corrélation entre les variables"
      ],
      "metadata": {
        "id": "rVFj2g3Tvbi4"
      }
    },
    {
      "cell_type": "code",
      "execution_count": 19,
      "metadata": {
        "colab": {
          "base_uri": "https://localhost:8080/",
          "height": 924
        },
        "id": "7CImVn6hhMuN",
        "outputId": "71cc7364-168b-4453-dc3a-5af3ebacd631"
      },
      "outputs": [
        {
          "output_type": "execute_result",
          "data": {
            "text/plain": [
              "<matplotlib.axes._subplots.AxesSubplot at 0x7fb947af2650>"
            ]
          },
          "metadata": {},
          "execution_count": 19
        },
        {
          "output_type": "display_data",
          "data": {
            "text/plain": [
              "<Figure size 1080x1080 with 2 Axes>"
            ],
            "image/png": "[encoded data removed]"
          },
          "metadata": {
            "needs_background": "light"
          }
        }
      ],
      "source": [
        "data_cor = data.corr()\n",
        "fig,ax=plt.subplots(figsize=(15,15))\n",
        "sns.heatmap(data_cor,cmap='Blues')"
      ]
    },
    {
      "cell_type": "markdown",
      "source": [
        "On cherche les 12 variables les plus corrélées négativement avec la variable cible \"match\""
      ],
      "metadata": {
        "id": "XS6I_kDNvipq"
      }
    },
    {
      "cell_type": "code",
      "execution_count": 20,
      "metadata": {
        "colab": {
          "base_uri": "https://localhost:8080/"
        },
        "id": "2L255feRm7wO",
        "outputId": "6469a35d-76e8-4205-ba6e-cb29d403b650"
      },
      "outputs": [
        {
          "output_type": "stream",
          "name": "stdout",
          "text": [
            "go_out     -0.071466\n",
            "date       -0.065782\n",
            "imprace    -0.059429\n",
            "condtn     -0.059067\n",
            "pf_o_sha   -0.047645\n",
            "shar1_1    -0.047067\n",
            "age_o      -0.046841\n",
            "age        -0.045826\n",
            "imprelig   -0.032842\n",
            "pf_o_sin   -0.029184\n",
            "sinc1_1    -0.028988\n",
            "field_cd   -0.026784\n",
            "Name: match, dtype: float64\n"
          ]
        }
      ],
      "source": [
        "print(data_cor[\"match\"].sort_values().head(12))\n"
      ]
    },
    {
      "cell_type": "markdown",
      "source": [
        "On cherche les 12 variables les plus corrélées positivement avec la variable cible \"match\""
      ],
      "metadata": {
        "id": "pnImg8_gvwj_"
      }
    },
    {
      "cell_type": "code",
      "execution_count": 21,
      "metadata": {
        "colab": {
          "base_uri": "https://localhost:8080/"
        },
        "id": "OR60qSrXnO7T",
        "outputId": "a6592484-f9d8-448b-84c5-5af73d1a6034"
      },
      "outputs": [
        {
          "output_type": "stream",
          "name": "stdout",
          "text": [
            "match       1.000000\n",
            "fun_o       0.275626\n",
            "shar_o      0.260898\n",
            "attr_o      0.260740\n",
            "intel_o     0.171047\n",
            "sinc_o      0.169568\n",
            "amb_o       0.139232\n",
            "clubbing    0.050579\n",
            "concerts    0.041975\n",
            "music       0.038225\n",
            "fun1_1      0.037333\n",
            "pf_o_fun    0.037156\n",
            "exphappy    0.034713\n",
            "Name: match, dtype: float64\n"
          ]
        }
      ],
      "source": [
        "print(data_cor[\"match\"].sort_values(ascending=False).head(13))"
      ]
    },
    {
      "cell_type": "markdown",
      "source": [
        "Quelques graphiques sur les variables corrélées négativement avec la variable \"match\" en fonction de cette dernière."
      ],
      "metadata": {
        "id": "krxPA9urqrOm"
      }
    },
    {
      "cell_type": "code",
      "execution_count": null,
      "metadata": {
        "colab": {
          "base_uri": "https://localhost:8080/",
          "height": 1000
        },
        "id": "ojlbZNXmi7fq",
        "outputId": "f2b2e84d-71a1-46e7-f505-71fb0ef3b0f7"
      },
      "outputs": [
        {
          "output_type": "display_data",
          "data": {
            "text/plain": [
              "<Figure size 1728x2304 with 12 Axes>"
            ],
            "image/png": "[encoded data removed]"
          },
          "metadata": {
            "needs_background": "light"
          }
        }
      ],
      "source": [
        "cols_negatif = [\"go_out\",\"date\",\"imprace\",\"condtn\",\"pf_o_sha\",\"shar1_1\",\"age_o\",\"age\",\"imprelig\",\"pf_o_sin\",\"sinc1_1\",\"field_cd\"]\n",
        "n_rows_negatif = 4\n",
        "n_cols_negatif = 3\n",
        "\n",
        "fig,ax=plt.subplots(n_rows_negatif,n_cols_negatif,figsize=(n_cols_negatif*8,n_rows_negatif*8))\n",
        "for r in range(0,n_rows_negatif):\n",
        "  for c in range(0,n_cols_negatif):\n",
        "    i = r*n_cols_negatif + c\n",
        "    if i < len(cols_negatif):\n",
        "      ax_i= ax[r,c]\n",
        "      sns.countplot(data=data,x=cols_negatif[i], hue=\"match\",ax=ax_i)"
      ]
    },
    {
      "cell_type": "markdown",
      "source": [
        "Quelques graphiques sur les variables corrélées positivement avec la variable \"match\" en fonction de cette dernière."
      ],
      "metadata": {
        "id": "PHRSM0B7q_ne"
      }
    },
    {
      "cell_type": "code",
      "execution_count": null,
      "metadata": {
        "colab": {
          "base_uri": "https://localhost:8080/",
          "height": 1000
        },
        "id": "LThyZx33ufqo",
        "outputId": "81235e72-4523-4835-848b-67b5fe891477"
      },
      "outputs": [
        {
          "output_type": "display_data",
          "data": {
            "text/plain": [
              "<Figure size 1728x2304 with 12 Axes>"
            ],
            "image/png": "[encoded data removed]"
          },
          "metadata": {
            "needs_background": "light"
          }
        }
      ],
      "source": [
        "cols_positif = [\"attr_o\",\"fun_o\",\"intel_o\",\"shar_o\",\"sinc_o\",\"amb_o\",\"clubbing\",\"concerts\",\"music\",\"fun1_1\",\"pf_o_fun\",\"exphappy\"]\n",
        "n_rows_positif = 4\n",
        "n_cols_positif = 3\n",
        "\n",
        "fig,ax=plt.subplots(n_rows_positif,n_cols_positif,figsize=(n_cols_positif*8,n_rows_positif*8))\n",
        "for r in range(0,n_rows_positif):\n",
        "  for c in range(0,n_cols_positif):\n",
        "    i = r*n_cols_positif + c\n",
        "    if i < len(cols_positif):\n",
        "      ax_i= ax[r,c]\n",
        "      sns.countplot(data=data,x=cols_positif[i], hue=\"match\",ax=ax_i)"
      ]
    },
    {
      "cell_type": "markdown",
      "metadata": {
        "id": "cLNMQ6Tgkp1_"
      },
      "source": [
        "# Feature engineering"
      ]
    },
    {
      "cell_type": "markdown",
      "source": [
        "On utilise la méthode \"Mutual Information\" pour analyser la relation entre la variable cible et les autres. L'avantage de cette méthode est qu'elle peut détecter tout type de relation, tandis que la corrélation ne détecte que les relations linéaires.\n",
        "\n",
        "Tout d'abord, on copie le data frame pour ne pas modifier l'original."
      ],
      "metadata": {
        "id": "jTjXl__ZrIJr"
      }
    },
    {
      "cell_type": "code",
      "execution_count": 22,
      "metadata": {
        "id": "S3ntatEVkPcG"
      },
      "outputs": [],
      "source": [
        "a = data.copy()\n",
        "b = a.pop(\"match\")"
      ]
    },
    {
      "cell_type": "markdown",
      "source": [
        "Après, on calcule les scores MI"
      ],
      "metadata": {
        "id": "h4MUkTrItipR"
      }
    },
    {
      "cell_type": "code",
      "execution_count": 23,
      "metadata": {
        "colab": {
          "base_uri": "https://localhost:8080/"
        },
        "id": "gZzd1nSHjS_E",
        "outputId": "85b2c14c-dea2-4a40-b771-e093050bb1c7"
      },
      "outputs": [
        {
          "output_type": "stream",
          "name": "stdout",
          "text": [
            "fun_o       0.047969\n",
            "attr_o      0.040907\n",
            "zipcode     0.037254\n",
            "shar_o      0.036003\n",
            "income      0.029254\n",
            "race        0.026182\n",
            "pf_o_amb    0.025588\n",
            "go_out      0.023299\n",
            "pf_o_att    0.020404\n",
            "sinc_o      0.018272\n",
            "date        0.016417\n",
            "sinc1_1     0.012108\n",
            "pf_o_sin    0.012043\n",
            "gender      0.011114\n",
            "amb1_1      0.010730\n",
            "career_c    0.010237\n",
            "shar1_1     0.010082\n",
            "tvsports    0.009350\n",
            "field_cd    0.008299\n",
            "int_corr    0.007453\n",
            "samerace    0.006920\n",
            "amb_o       0.006500\n",
            "exphappy    0.006346\n",
            "clubbing    0.006285\n",
            "reading     0.005362\n",
            "pf_o_fun    0.003941\n",
            "imprace     0.003891\n",
            "museums     0.002068\n",
            "intel_o     0.001740\n",
            "condtn      0.000576\n",
            "race_o      0.000444\n",
            "goal        0.000000\n",
            "concerts    0.000000\n",
            "age         0.000000\n",
            "fun1_1      0.000000\n",
            "intel1_1    0.000000\n",
            "pf_o_int    0.000000\n",
            "attr1_1     0.000000\n",
            "imprelig    0.000000\n",
            "yoga        0.000000\n",
            "shopping    0.000000\n",
            "music       0.000000\n",
            "movies      0.000000\n",
            "exercise    0.000000\n",
            "sports      0.000000\n",
            "tv          0.000000\n",
            "age_o       0.000000\n",
            "gaming      0.000000\n",
            "hiking      0.000000\n",
            "art         0.000000\n",
            "pf_o_sha    0.000000\n",
            "dining      0.000000\n",
            "theater     0.000000\n",
            "Name: MI Scores, dtype: float64\n"
          ]
        }
      ],
      "source": [
        "from sklearn.feature_selection import mutual_info_regression\n",
        "\n",
        "def make_mi_scores(a, b):\n",
        "    mi_scores = mutual_info_regression(a, b,random_state=0)\n",
        "    mi_scores = pd.Series(mi_scores, name=\"MI Scores\", index=a.columns)\n",
        "    mi_scores = mi_scores.sort_values(ascending=False)\n",
        "    return mi_scores\n",
        "\n",
        "mi_scores = make_mi_scores(a, b)\n",
        "print(mi_scores)"
      ]
    },
    {
      "cell_type": "markdown",
      "source": [
        "On fait un graphique à barres pour faciliter les comparaisons"
      ],
      "metadata": {
        "id": "eCHeA4TXuEpi"
      }
    },
    {
      "cell_type": "code",
      "execution_count": 24,
      "metadata": {
        "colab": {
          "base_uri": "https://localhost:8080/",
          "height": 838
        },
        "id": "G6pz7ya1jpPg",
        "outputId": "b6901d6e-da7b-4229-f65f-bfcafc2f68e1"
      },
      "outputs": [
        {
          "output_type": "display_data",
          "data": {
            "text/plain": [
              "<Figure size 1000x1000 with 1 Axes>"
            ],
            "image/png": "[encoded data removed]"
          },
          "metadata": {
            "needs_background": "light"
          }
        }
      ],
      "source": [
        "def plot_mi_scores(scores):\n",
        "    scores = scores.sort_values(ascending=True)\n",
        "    width = np.arange(len(scores))\n",
        "    ticks = list(scores.index)\n",
        "    plt.barh(width, scores)\n",
        "    plt.yticks(width, ticks)\n",
        "    plt.title(\"Mutual Information Scores\")\n",
        "\n",
        "\n",
        "plt.figure(dpi=100, figsize=(10, 10))\n",
        "plot_mi_scores(mi_scores)"
      ]
    },
    {
      "cell_type": "markdown",
      "metadata": {
        "id": "MlTaoQ-_itpC"
      },
      "source": [
        "# Echantillonnage"
      ]
    },
    {
      "cell_type": "markdown",
      "source": [
        "On crée un objet X avec les variables explicatives, et un objet y avec la variable à expliquer"
      ],
      "metadata": {
        "id": "IOeD4JWeuZHI"
      }
    },
    {
      "cell_type": "code",
      "execution_count": 35,
      "metadata": {
        "id": "ctTkesWgvvAo"
      },
      "outputs": [],
      "source": [
        "X=data.loc[:,~data.columns.isin(['match'])]\n",
        "y=data.iloc[:,2]"
      ]
    },
    {
      "cell_type": "code",
      "execution_count": 36,
      "metadata": {
        "id": "rZSWLmTEq97V"
      },
      "outputs": [],
      "source": [
        "features = [\"fun_o\",\"pf_o_sha\",\"int_corr\",\"shar_o\",\"attr_o\",\"zipcode\",\"intel_o\",\"go_out\",\n",
        "            \"pf_o_att\",\"sinc_o\",\"sinc1_1\",\"exphappy\",\"date\",\"pf_o_amb\",\"race\",\n",
        "            \"pf_o_sin\",\"music\",\"condtn\",\"age_o\",\"career_c\"]\n",
        "\n",
        "X = X[features]"
      ]
    },
    {
      "cell_type": "markdown",
      "source": [
        "On scinde l'échantillon en apprentissage / test"
      ],
      "metadata": {
        "id": "UOSOEU46u2Ij"
      }
    },
    {
      "cell_type": "code",
      "execution_count": 37,
      "metadata": {
        "colab": {
          "base_uri": "https://localhost:8080/"
        },
        "id": "OwW5VTJa0-Pb",
        "outputId": "36905c88-ce66-4b8b-cc7c-3ef4914a60a5"
      },
      "outputs": [
        {
          "output_type": "stream",
          "name": "stdout",
          "text": [
            "(4804, 20) (2000, 20) (4804,) (2000,)\n"
          ]
        }
      ],
      "source": [
        "from sklearn import model_selection\n",
        "X_app,X_test,y_app,y_test = model_selection.train_test_split(X,y,test_size = 2000,stratify=y) \n",
        "print(X_app.shape,X_test.shape,y_app.shape,y_test.shape)"
      ]
    },
    {
      "cell_type": "markdown",
      "source": [
        "# SMOTE"
      ],
      "metadata": {
        "id": "-WEeSWQqMKOA"
      }
    },
    {
      "cell_type": "code",
      "source": [
        "from imblearn.over_sampling import SMOTE\n",
        "sm = SMOTE(random_state = 2)\n",
        "X_app_re, y_app_re = sm.fit_resample(X_app, y_app.ravel())"
      ],
      "metadata": {
        "id": "vgeWHNmVPTtz"
      },
      "execution_count": 38,
      "outputs": []
    },
    {
      "cell_type": "markdown",
      "source": [
        "# Prédiction avec RandomForestClassifier"
      ],
      "metadata": {
        "id": "XMQYNbfTMi0U"
      }
    },
    {
      "cell_type": "markdown",
      "source": [
        "On choisit les paramètres à tester dans le GridSearch"
      ],
      "metadata": {
        "id": "SA_U2AaZvL20"
      }
    },
    {
      "cell_type": "code",
      "execution_count": 39,
      "metadata": {
        "id": "nex5xRSDWt83"
      },
      "outputs": [],
      "source": [
        "from sklearn.ensemble import RandomForestClassifier\n",
        "from sklearn.model_selection import GridSearchCV\n",
        "from sklearn.metrics import make_scorer, f1_score\n",
        "\n",
        "parameters = {'max_depth' : np.arange(start = 16, stop = 25, step = 1) , \n",
        "              'min_samples_leaf' : np.arange(start = 2, stop = 4, step = 1),\n",
        "              'min_samples_split' : np.arange(start = 2, stop = 5, step = 1)}\n"
      ]
    },
    {
      "cell_type": "markdown",
      "source": [
        "On apprend sur X_app"
      ],
      "metadata": {
        "id": "kQiMOITcvYAk"
      }
    },
    {
      "cell_type": "code",
      "execution_count": 40,
      "metadata": {
        "colab": {
          "base_uri": "https://localhost:8080/"
        },
        "id": "Tvhi43PSagiy",
        "outputId": "ab57434f-3b6f-4a73-b5d0-76e829fb81c6"
      },
      "outputs": [
        {
          "output_type": "stream",
          "name": "stdout",
          "text": [
            "Fitting 5 folds for each of 54 candidates, totalling 270 fits\n",
            "[CV] END max_depth=16, min_samples_leaf=2, min_samples_split=2; total time=   1.4s\n",
            "[CV] END max_depth=16, min_samples_leaf=2, min_samples_split=2; total time=   1.4s\n",
            "[CV] END max_depth=16, min_samples_leaf=2, min_samples_split=2; total time=   1.4s\n",
            "[CV] END max_depth=16, min_samples_leaf=2, min_samples_split=2; total time=   1.4s\n",
            "[CV] END max_depth=16, min_samples_leaf=2, min_samples_split=2; total time=   1.4s\n",
            "[CV] END max_depth=16, min_samples_leaf=2, min_samples_split=3; total time=   1.4s\n",
            "[CV] END max_depth=16, min_samples_leaf=2, min_samples_split=3; total time=   1.4s\n",
            "[CV] END max_depth=16, min_samples_leaf=2, min_samples_split=3; total time=   1.4s\n",
            "[CV] END max_depth=16, min_samples_leaf=2, min_samples_split=3; total time=   1.3s\n",
            "[CV] END max_depth=16, min_samples_leaf=2, min_samples_split=3; total time=   1.4s\n",
            "[CV] END max_depth=16, min_samples_leaf=2, min_samples_split=4; total time=   1.4s\n",
            "[CV] END max_depth=16, min_samples_leaf=2, min_samples_split=4; total time=   1.4s\n",
            "[CV] END max_depth=16, min_samples_leaf=2, min_samples_split=4; total time=   1.3s\n",
            "[CV] END max_depth=16, min_samples_leaf=2, min_samples_split=4; total time=   1.4s\n",
            "[CV] END max_depth=16, min_samples_leaf=2, min_samples_split=4; total time=   1.4s\n",
            "[CV] END max_depth=16, min_samples_leaf=3, min_samples_split=2; total time=   1.4s\n",
            "[CV] END max_depth=16, min_samples_leaf=3, min_samples_split=2; total time=   1.3s\n",
            "[CV] END max_depth=16, min_samples_leaf=3, min_samples_split=2; total time=   1.3s\n",
            "[CV] END max_depth=16, min_samples_leaf=3, min_samples_split=2; total time=   1.3s\n",
            "[CV] END max_depth=16, min_samples_leaf=3, min_samples_split=2; total time=   1.3s\n",
            "[CV] END max_depth=16, min_samples_leaf=3, min_samples_split=3; total time=   1.4s\n",
            "[CV] END max_depth=16, min_samples_leaf=3, min_samples_split=3; total time=   1.3s\n",
            "[CV] END max_depth=16, min_samples_leaf=3, min_samples_split=3; total time=   1.3s\n",
            "[CV] END max_depth=16, min_samples_leaf=3, min_samples_split=3; total time=   1.3s\n",
            "[CV] END max_depth=16, min_samples_leaf=3, min_samples_split=3; total time=   1.3s\n",
            "[CV] END max_depth=16, min_samples_leaf=3, min_samples_split=4; total time=   1.4s\n",
            "[CV] END max_depth=16, min_samples_leaf=3, min_samples_split=4; total time=   1.3s\n",
            "[CV] END max_depth=16, min_samples_leaf=3, min_samples_split=4; total time=   1.3s\n",
            "[CV] END max_depth=16, min_samples_leaf=3, min_samples_split=4; total time=   1.3s\n",
            "[CV] END max_depth=16, min_samples_leaf=3, min_samples_split=4; total time=   1.3s\n",
            "[CV] END max_depth=17, min_samples_leaf=2, min_samples_split=2; total time=   1.4s\n",
            "[CV] END max_depth=17, min_samples_leaf=2, min_samples_split=2; total time=   1.4s\n",
            "[CV] END max_depth=17, min_samples_leaf=2, min_samples_split=2; total time=   1.4s\n",
            "[CV] END max_depth=17, min_samples_leaf=2, min_samples_split=2; total time=   1.4s\n",
            "[CV] END max_depth=17, min_samples_leaf=2, min_samples_split=2; total time=   1.4s\n",
            "[CV] END max_depth=17, min_samples_leaf=2, min_samples_split=3; total time=   1.4s\n",
            "[CV] END max_depth=17, min_samples_leaf=2, min_samples_split=3; total time=   1.4s\n",
            "[CV] END max_depth=17, min_samples_leaf=2, min_samples_split=3; total time=   1.4s\n",
            "[CV] END max_depth=17, min_samples_leaf=2, min_samples_split=3; total time=   1.4s\n",
            "[CV] END max_depth=17, min_samples_leaf=2, min_samples_split=3; total time=   1.4s\n",
            "[CV] END max_depth=17, min_samples_leaf=2, min_samples_split=4; total time=   1.4s\n",
            "[CV] END max_depth=17, min_samples_leaf=2, min_samples_split=4; total time=   1.4s\n",
            "[CV] END max_depth=17, min_samples_leaf=2, min_samples_split=4; total time=   1.3s\n",
            "[CV] END max_depth=17, min_samples_leaf=2, min_samples_split=4; total time=   1.4s\n",
            "[CV] END max_depth=17, min_samples_leaf=2, min_samples_split=4; total time=   1.4s\n",
            "[CV] END max_depth=17, min_samples_leaf=3, min_samples_split=2; total time=   1.4s\n",
            "[CV] END max_depth=17, min_samples_leaf=3, min_samples_split=2; total time=   1.3s\n",
            "[CV] END max_depth=17, min_samples_leaf=3, min_samples_split=2; total time=   1.3s\n",
            "[CV] END max_depth=17, min_samples_leaf=3, min_samples_split=2; total time=   1.3s\n",
            "[CV] END max_depth=17, min_samples_leaf=3, min_samples_split=2; total time=   1.3s\n",
            "[CV] END max_depth=17, min_samples_leaf=3, min_samples_split=3; total time=   1.4s\n",
            "[CV] END max_depth=17, min_samples_leaf=3, min_samples_split=3; total time=   1.3s\n",
            "[CV] END max_depth=17, min_samples_leaf=3, min_samples_split=3; total time=   1.3s\n",
            "[CV] END max_depth=17, min_samples_leaf=3, min_samples_split=3; total time=   1.3s\n",
            "[CV] END max_depth=17, min_samples_leaf=3, min_samples_split=3; total time=   1.3s\n",
            "[CV] END max_depth=17, min_samples_leaf=3, min_samples_split=4; total time=   1.4s\n",
            "[CV] END max_depth=17, min_samples_leaf=3, min_samples_split=4; total time=   1.3s\n",
            "[CV] END max_depth=17, min_samples_leaf=3, min_samples_split=4; total time=   1.3s\n",
            "[CV] END max_depth=17, min_samples_leaf=3, min_samples_split=4; total time=   1.3s\n",
            "[CV] END max_depth=17, min_samples_leaf=3, min_samples_split=4; total time=   1.3s\n",
            "[CV] END max_depth=18, min_samples_leaf=2, min_samples_split=2; total time=   1.4s\n",
            "[CV] END max_depth=18, min_samples_leaf=2, min_samples_split=2; total time=   1.4s\n",
            "[CV] END max_depth=18, min_samples_leaf=2, min_samples_split=2; total time=   1.3s\n",
            "[CV] END max_depth=18, min_samples_leaf=2, min_samples_split=2; total time=   1.4s\n",
            "[CV] END max_depth=18, min_samples_leaf=2, min_samples_split=2; total time=   1.4s\n",
            "[CV] END max_depth=18, min_samples_leaf=2, min_samples_split=3; total time=   1.4s\n",
            "[CV] END max_depth=18, min_samples_leaf=2, min_samples_split=3; total time=   1.4s\n",
            "[CV] END max_depth=18, min_samples_leaf=2, min_samples_split=3; total time=   1.4s\n",
            "[CV] END max_depth=18, min_samples_leaf=2, min_samples_split=3; total time=   1.4s\n",
            "[CV] END max_depth=18, min_samples_leaf=2, min_samples_split=3; total time=   1.9s\n",
            "[CV] END max_depth=18, min_samples_leaf=2, min_samples_split=4; total time=   2.0s\n",
            "[CV] END max_depth=18, min_samples_leaf=2, min_samples_split=4; total time=   1.4s\n",
            "[CV] END max_depth=18, min_samples_leaf=2, min_samples_split=4; total time=   1.4s\n",
            "[CV] END max_depth=18, min_samples_leaf=2, min_samples_split=4; total time=   1.4s\n",
            "[CV] END max_depth=18, min_samples_leaf=2, min_samples_split=4; total time=   1.4s\n",
            "[CV] END max_depth=18, min_samples_leaf=3, min_samples_split=2; total time=   1.4s\n",
            "[CV] END max_depth=18, min_samples_leaf=3, min_samples_split=2; total time=   1.3s\n",
            "[CV] END max_depth=18, min_samples_leaf=3, min_samples_split=2; total time=   1.3s\n",
            "[CV] END max_depth=18, min_samples_leaf=3, min_samples_split=2; total time=   1.3s\n",
            "[CV] END max_depth=18, min_samples_leaf=3, min_samples_split=2; total time=   1.3s\n",
            "[CV] END max_depth=18, min_samples_leaf=3, min_samples_split=3; total time=   1.4s\n",
            "[CV] END max_depth=18, min_samples_leaf=3, min_samples_split=3; total time=   1.3s\n",
            "[CV] END max_depth=18, min_samples_leaf=3, min_samples_split=3; total time=   1.3s\n",
            "[CV] END max_depth=18, min_samples_leaf=3, min_samples_split=3; total time=   1.3s\n",
            "[CV] END max_depth=18, min_samples_leaf=3, min_samples_split=3; total time=   1.3s\n",
            "[CV] END max_depth=18, min_samples_leaf=3, min_samples_split=4; total time=   1.4s\n",
            "[CV] END max_depth=18, min_samples_leaf=3, min_samples_split=4; total time=   1.3s\n",
            "[CV] END max_depth=18, min_samples_leaf=3, min_samples_split=4; total time=   1.3s\n",
            "[CV] END max_depth=18, min_samples_leaf=3, min_samples_split=4; total time=   1.3s\n",
            "[CV] END max_depth=18, min_samples_leaf=3, min_samples_split=4; total time=   1.3s\n",
            "[CV] END max_depth=19, min_samples_leaf=2, min_samples_split=2; total time=   1.4s\n",
            "[CV] END max_depth=19, min_samples_leaf=2, min_samples_split=2; total time=   1.4s\n",
            "[CV] END max_depth=19, min_samples_leaf=2, min_samples_split=2; total time=   1.4s\n",
            "[CV] END max_depth=19, min_samples_leaf=2, min_samples_split=2; total time=   1.4s\n",
            "[CV] END max_depth=19, min_samples_leaf=2, min_samples_split=2; total time=   1.4s\n",
            "[CV] END max_depth=19, min_samples_leaf=2, min_samples_split=3; total time=   1.4s\n",
            "[CV] END max_depth=19, min_samples_leaf=2, min_samples_split=3; total time=   1.4s\n",
            "[CV] END max_depth=19, min_samples_leaf=2, min_samples_split=3; total time=   1.4s\n",
            "[CV] END max_depth=19, min_samples_leaf=2, min_samples_split=3; total time=   1.4s\n",
            "[CV] END max_depth=19, min_samples_leaf=2, min_samples_split=3; total time=   1.4s\n",
            "[CV] END max_depth=19, min_samples_leaf=2, min_samples_split=4; total time=   1.4s\n",
            "[CV] END max_depth=19, min_samples_leaf=2, min_samples_split=4; total time=   1.4s\n",
            "[CV] END max_depth=19, min_samples_leaf=2, min_samples_split=4; total time=   1.4s\n",
            "[CV] END max_depth=19, min_samples_leaf=2, min_samples_split=4; total time=   1.4s\n",
            "[CV] END max_depth=19, min_samples_leaf=2, min_samples_split=4; total time=   1.4s\n",
            "[CV] END max_depth=19, min_samples_leaf=3, min_samples_split=2; total time=   1.4s\n",
            "[CV] END max_depth=19, min_samples_leaf=3, min_samples_split=2; total time=   1.4s\n",
            "[CV] END max_depth=19, min_samples_leaf=3, min_samples_split=2; total time=   1.3s\n",
            "[CV] END max_depth=19, min_samples_leaf=3, min_samples_split=2; total time=   1.3s\n",
            "[CV] END max_depth=19, min_samples_leaf=3, min_samples_split=2; total time=   1.3s\n",
            "[CV] END max_depth=19, min_samples_leaf=3, min_samples_split=3; total time=   1.4s\n",
            "[CV] END max_depth=19, min_samples_leaf=3, min_samples_split=3; total time=   1.3s\n",
            "[CV] END max_depth=19, min_samples_leaf=3, min_samples_split=3; total time=   1.3s\n",
            "[CV] END max_depth=19, min_samples_leaf=3, min_samples_split=3; total time=   1.3s\n",
            "[CV] END max_depth=19, min_samples_leaf=3, min_samples_split=3; total time=   1.3s\n",
            "[CV] END max_depth=19, min_samples_leaf=3, min_samples_split=4; total time=   1.4s\n",
            "[CV] END max_depth=19, min_samples_leaf=3, min_samples_split=4; total time=   1.3s\n",
            "[CV] END max_depth=19, min_samples_leaf=3, min_samples_split=4; total time=   1.3s\n",
            "[CV] END max_depth=19, min_samples_leaf=3, min_samples_split=4; total time=   1.3s\n",
            "[CV] END max_depth=19, min_samples_leaf=3, min_samples_split=4; total time=   1.3s\n",
            "[CV] END max_depth=20, min_samples_leaf=2, min_samples_split=2; total time=   1.4s\n",
            "[CV] END max_depth=20, min_samples_leaf=2, min_samples_split=2; total time=   1.4s\n",
            "[CV] END max_depth=20, min_samples_leaf=2, min_samples_split=2; total time=   1.3s\n",
            "[CV] END max_depth=20, min_samples_leaf=2, min_samples_split=2; total time=   1.4s\n",
            "[CV] END max_depth=20, min_samples_leaf=2, min_samples_split=2; total time=   1.4s\n",
            "[CV] END max_depth=20, min_samples_leaf=2, min_samples_split=3; total time=   1.4s\n",
            "[CV] END max_depth=20, min_samples_leaf=2, min_samples_split=3; total time=   1.4s\n",
            "[CV] END max_depth=20, min_samples_leaf=2, min_samples_split=3; total time=   1.4s\n",
            "[CV] END max_depth=20, min_samples_leaf=2, min_samples_split=3; total time=   1.4s\n",
            "[CV] END max_depth=20, min_samples_leaf=2, min_samples_split=3; total time=   1.4s\n",
            "[CV] END max_depth=20, min_samples_leaf=2, min_samples_split=4; total time=   1.4s\n",
            "[CV] END max_depth=20, min_samples_leaf=2, min_samples_split=4; total time=   1.4s\n",
            "[CV] END max_depth=20, min_samples_leaf=2, min_samples_split=4; total time=   1.3s\n",
            "[CV] END max_depth=20, min_samples_leaf=2, min_samples_split=4; total time=   1.4s\n",
            "[CV] END max_depth=20, min_samples_leaf=2, min_samples_split=4; total time=   1.4s\n",
            "[CV] END max_depth=20, min_samples_leaf=3, min_samples_split=2; total time=   1.4s\n",
            "[CV] END max_depth=20, min_samples_leaf=3, min_samples_split=2; total time=   1.4s\n",
            "[CV] END max_depth=20, min_samples_leaf=3, min_samples_split=2; total time=   1.3s\n",
            "[CV] END max_depth=20, min_samples_leaf=3, min_samples_split=2; total time=   1.3s\n",
            "[CV] END max_depth=20, min_samples_leaf=3, min_samples_split=2; total time=   1.3s\n",
            "[CV] END max_depth=20, min_samples_leaf=3, min_samples_split=3; total time=   1.4s\n",
            "[CV] END max_depth=20, min_samples_leaf=3, min_samples_split=3; total time=   1.4s\n",
            "[CV] END max_depth=20, min_samples_leaf=3, min_samples_split=3; total time=   1.3s\n",
            "[CV] END max_depth=20, min_samples_leaf=3, min_samples_split=3; total time=   1.3s\n",
            "[CV] END max_depth=20, min_samples_leaf=3, min_samples_split=3; total time=   1.4s\n",
            "[CV] END max_depth=20, min_samples_leaf=3, min_samples_split=4; total time=   1.4s\n",
            "[CV] END max_depth=20, min_samples_leaf=3, min_samples_split=4; total time=   1.4s\n",
            "[CV] END max_depth=20, min_samples_leaf=3, min_samples_split=4; total time=   1.3s\n",
            "[CV] END max_depth=20, min_samples_leaf=3, min_samples_split=4; total time=   1.3s\n",
            "[CV] END max_depth=20, min_samples_leaf=3, min_samples_split=4; total time=   1.3s\n",
            "[CV] END max_depth=21, min_samples_leaf=2, min_samples_split=2; total time=   1.4s\n",
            "[CV] END max_depth=21, min_samples_leaf=2, min_samples_split=2; total time=   1.4s\n",
            "[CV] END max_depth=21, min_samples_leaf=2, min_samples_split=2; total time=   1.4s\n",
            "[CV] END max_depth=21, min_samples_leaf=2, min_samples_split=2; total time=   1.4s\n",
            "[CV] END max_depth=21, min_samples_leaf=2, min_samples_split=2; total time=   1.4s\n",
            "[CV] END max_depth=21, min_samples_leaf=2, min_samples_split=3; total time=   1.4s\n",
            "[CV] END max_depth=21, min_samples_leaf=2, min_samples_split=3; total time=   1.4s\n",
            "[CV] END max_depth=21, min_samples_leaf=2, min_samples_split=3; total time=   1.4s\n",
            "[CV] END max_depth=21, min_samples_leaf=2, min_samples_split=3; total time=   1.4s\n",
            "[CV] END max_depth=21, min_samples_leaf=2, min_samples_split=3; total time=   1.4s\n",
            "[CV] END max_depth=21, min_samples_leaf=2, min_samples_split=4; total time=   1.4s\n",
            "[CV] END max_depth=21, min_samples_leaf=2, min_samples_split=4; total time=   1.4s\n",
            "[CV] END max_depth=21, min_samples_leaf=2, min_samples_split=4; total time=   1.3s\n",
            "[CV] END max_depth=21, min_samples_leaf=2, min_samples_split=4; total time=   1.4s\n",
            "[CV] END max_depth=21, min_samples_leaf=2, min_samples_split=4; total time=   1.4s\n",
            "[CV] END max_depth=21, min_samples_leaf=3, min_samples_split=2; total time=   1.4s\n",
            "[CV] END max_depth=21, min_samples_leaf=3, min_samples_split=2; total time=   1.3s\n",
            "[CV] END max_depth=21, min_samples_leaf=3, min_samples_split=2; total time=   1.3s\n",
            "[CV] END max_depth=21, min_samples_leaf=3, min_samples_split=2; total time=   1.4s\n",
            "[CV] END max_depth=21, min_samples_leaf=3, min_samples_split=2; total time=   1.4s\n",
            "[CV] END max_depth=21, min_samples_leaf=3, min_samples_split=3; total time=   1.4s\n",
            "[CV] END max_depth=21, min_samples_leaf=3, min_samples_split=3; total time=   1.3s\n",
            "[CV] END max_depth=21, min_samples_leaf=3, min_samples_split=3; total time=   1.3s\n",
            "[CV] END max_depth=21, min_samples_leaf=3, min_samples_split=3; total time=   1.3s\n",
            "[CV] END max_depth=21, min_samples_leaf=3, min_samples_split=3; total time=   1.3s\n",
            "[CV] END max_depth=21, min_samples_leaf=3, min_samples_split=4; total time=   1.4s\n",
            "[CV] END max_depth=21, min_samples_leaf=3, min_samples_split=4; total time=   1.3s\n",
            "[CV] END max_depth=21, min_samples_leaf=3, min_samples_split=4; total time=   1.3s\n",
            "[CV] END max_depth=21, min_samples_leaf=3, min_samples_split=4; total time=   1.3s\n",
            "[CV] END max_depth=21, min_samples_leaf=3, min_samples_split=4; total time=   1.3s\n",
            "[CV] END max_depth=22, min_samples_leaf=2, min_samples_split=2; total time=   1.4s\n",
            "[CV] END max_depth=22, min_samples_leaf=2, min_samples_split=2; total time=   1.4s\n",
            "[CV] END max_depth=22, min_samples_leaf=2, min_samples_split=2; total time=   1.4s\n",
            "[CV] END max_depth=22, min_samples_leaf=2, min_samples_split=2; total time=   1.4s\n",
            "[CV] END max_depth=22, min_samples_leaf=2, min_samples_split=2; total time=   1.4s\n",
            "[CV] END max_depth=22, min_samples_leaf=2, min_samples_split=3; total time=   1.4s\n",
            "[CV] END max_depth=22, min_samples_leaf=2, min_samples_split=3; total time=   1.4s\n",
            "[CV] END max_depth=22, min_samples_leaf=2, min_samples_split=3; total time=   1.4s\n",
            "[CV] END max_depth=22, min_samples_leaf=2, min_samples_split=3; total time=   1.4s\n",
            "[CV] END max_depth=22, min_samples_leaf=2, min_samples_split=3; total time=   1.4s\n",
            "[CV] END max_depth=22, min_samples_leaf=2, min_samples_split=4; total time=   1.5s\n",
            "[CV] END max_depth=22, min_samples_leaf=2, min_samples_split=4; total time=   1.4s\n",
            "[CV] END max_depth=22, min_samples_leaf=2, min_samples_split=4; total time=   1.4s\n",
            "[CV] END max_depth=22, min_samples_leaf=2, min_samples_split=4; total time=   1.4s\n",
            "[CV] END max_depth=22, min_samples_leaf=2, min_samples_split=4; total time=   1.4s\n",
            "[CV] END max_depth=22, min_samples_leaf=3, min_samples_split=2; total time=   1.4s\n",
            "[CV] END max_depth=22, min_samples_leaf=3, min_samples_split=2; total time=   1.4s\n",
            "[CV] END max_depth=22, min_samples_leaf=3, min_samples_split=2; total time=   1.3s\n",
            "[CV] END max_depth=22, min_samples_leaf=3, min_samples_split=2; total time=   1.3s\n",
            "[CV] END max_depth=22, min_samples_leaf=3, min_samples_split=2; total time=   1.3s\n",
            "[CV] END max_depth=22, min_samples_leaf=3, min_samples_split=3; total time=   1.4s\n",
            "[CV] END max_depth=22, min_samples_leaf=3, min_samples_split=3; total time=   1.4s\n",
            "[CV] END max_depth=22, min_samples_leaf=3, min_samples_split=3; total time=   1.3s\n",
            "[CV] END max_depth=22, min_samples_leaf=3, min_samples_split=3; total time=   1.4s\n",
            "[CV] END max_depth=22, min_samples_leaf=3, min_samples_split=3; total time=   1.3s\n",
            "[CV] END max_depth=22, min_samples_leaf=3, min_samples_split=4; total time=   1.4s\n",
            "[CV] END max_depth=22, min_samples_leaf=3, min_samples_split=4; total time=   1.3s\n",
            "[CV] END max_depth=22, min_samples_leaf=3, min_samples_split=4; total time=   1.3s\n",
            "[CV] END max_depth=22, min_samples_leaf=3, min_samples_split=4; total time=   1.3s\n",
            "[CV] END max_depth=22, min_samples_leaf=3, min_samples_split=4; total time=   1.4s\n",
            "[CV] END max_depth=23, min_samples_leaf=2, min_samples_split=2; total time=   2.0s\n",
            "[CV] END max_depth=23, min_samples_leaf=2, min_samples_split=2; total time=   1.9s\n",
            "[CV] END max_depth=23, min_samples_leaf=2, min_samples_split=2; total time=   1.4s\n",
            "[CV] END max_depth=23, min_samples_leaf=2, min_samples_split=2; total time=   1.4s\n",
            "[CV] END max_depth=23, min_samples_leaf=2, min_samples_split=2; total time=   1.4s\n",
            "[CV] END max_depth=23, min_samples_leaf=2, min_samples_split=3; total time=   1.4s\n",
            "[CV] END max_depth=23, min_samples_leaf=2, min_samples_split=3; total time=   1.4s\n",
            "[CV] END max_depth=23, min_samples_leaf=2, min_samples_split=3; total time=   1.4s\n",
            "[CV] END max_depth=23, min_samples_leaf=2, min_samples_split=3; total time=   1.4s\n",
            "[CV] END max_depth=23, min_samples_leaf=2, min_samples_split=3; total time=   1.4s\n",
            "[CV] END max_depth=23, min_samples_leaf=2, min_samples_split=4; total time=   1.4s\n",
            "[CV] END max_depth=23, min_samples_leaf=2, min_samples_split=4; total time=   1.4s\n",
            "[CV] END max_depth=23, min_samples_leaf=2, min_samples_split=4; total time=   1.4s\n",
            "[CV] END max_depth=23, min_samples_leaf=2, min_samples_split=4; total time=   1.4s\n",
            "[CV] END max_depth=23, min_samples_leaf=2, min_samples_split=4; total time=   1.4s\n",
            "[CV] END max_depth=23, min_samples_leaf=3, min_samples_split=2; total time=   1.4s\n",
            "[CV] END max_depth=23, min_samples_leaf=3, min_samples_split=2; total time=   1.3s\n",
            "[CV] END max_depth=23, min_samples_leaf=3, min_samples_split=2; total time=   1.3s\n",
            "[CV] END max_depth=23, min_samples_leaf=3, min_samples_split=2; total time=   1.4s\n",
            "[CV] END max_depth=23, min_samples_leaf=3, min_samples_split=2; total time=   1.3s\n",
            "[CV] END max_depth=23, min_samples_leaf=3, min_samples_split=3; total time=   1.4s\n",
            "[CV] END max_depth=23, min_samples_leaf=3, min_samples_split=3; total time=   1.3s\n",
            "[CV] END max_depth=23, min_samples_leaf=3, min_samples_split=3; total time=   1.3s\n",
            "[CV] END max_depth=23, min_samples_leaf=3, min_samples_split=3; total time=   1.4s\n",
            "[CV] END max_depth=23, min_samples_leaf=3, min_samples_split=3; total time=   1.3s\n",
            "[CV] END max_depth=23, min_samples_leaf=3, min_samples_split=4; total time=   1.4s\n",
            "[CV] END max_depth=23, min_samples_leaf=3, min_samples_split=4; total time=   1.3s\n",
            "[CV] END max_depth=23, min_samples_leaf=3, min_samples_split=4; total time=   1.3s\n",
            "[CV] END max_depth=23, min_samples_leaf=3, min_samples_split=4; total time=   1.3s\n",
            "[CV] END max_depth=23, min_samples_leaf=3, min_samples_split=4; total time=   1.4s\n",
            "[CV] END max_depth=24, min_samples_leaf=2, min_samples_split=2; total time=   1.4s\n",
            "[CV] END max_depth=24, min_samples_leaf=2, min_samples_split=2; total time=   1.4s\n",
            "[CV] END max_depth=24, min_samples_leaf=2, min_samples_split=2; total time=   1.4s\n",
            "[CV] END max_depth=24, min_samples_leaf=2, min_samples_split=2; total time=   1.4s\n",
            "[CV] END max_depth=24, min_samples_leaf=2, min_samples_split=2; total time=   1.4s\n",
            "[CV] END max_depth=24, min_samples_leaf=2, min_samples_split=3; total time=   1.4s\n",
            "[CV] END max_depth=24, min_samples_leaf=2, min_samples_split=3; total time=   1.4s\n",
            "[CV] END max_depth=24, min_samples_leaf=2, min_samples_split=3; total time=   1.4s\n",
            "[CV] END max_depth=24, min_samples_leaf=2, min_samples_split=3; total time=   1.4s\n",
            "[CV] END max_depth=24, min_samples_leaf=2, min_samples_split=3; total time=   1.4s\n",
            "[CV] END max_depth=24, min_samples_leaf=2, min_samples_split=4; total time=   1.4s\n",
            "[CV] END max_depth=24, min_samples_leaf=2, min_samples_split=4; total time=   1.4s\n",
            "[CV] END max_depth=24, min_samples_leaf=2, min_samples_split=4; total time=   1.4s\n",
            "[CV] END max_depth=24, min_samples_leaf=2, min_samples_split=4; total time=   1.4s\n",
            "[CV] END max_depth=24, min_samples_leaf=2, min_samples_split=4; total time=   1.4s\n",
            "[CV] END max_depth=24, min_samples_leaf=3, min_samples_split=2; total time=   1.4s\n",
            "[CV] END max_depth=24, min_samples_leaf=3, min_samples_split=2; total time=   1.3s\n",
            "[CV] END max_depth=24, min_samples_leaf=3, min_samples_split=2; total time=   1.3s\n",
            "[CV] END max_depth=24, min_samples_leaf=3, min_samples_split=2; total time=   1.4s\n",
            "[CV] END max_depth=24, min_samples_leaf=3, min_samples_split=2; total time=   1.3s\n",
            "[CV] END max_depth=24, min_samples_leaf=3, min_samples_split=3; total time=   1.4s\n",
            "[CV] END max_depth=24, min_samples_leaf=3, min_samples_split=3; total time=   1.3s\n",
            "[CV] END max_depth=24, min_samples_leaf=3, min_samples_split=3; total time=   1.3s\n",
            "[CV] END max_depth=24, min_samples_leaf=3, min_samples_split=3; total time=   1.4s\n",
            "[CV] END max_depth=24, min_samples_leaf=3, min_samples_split=3; total time=   1.3s\n",
            "[CV] END max_depth=24, min_samples_leaf=3, min_samples_split=4; total time=   1.4s\n",
            "[CV] END max_depth=24, min_samples_leaf=3, min_samples_split=4; total time=   1.3s\n",
            "[CV] END max_depth=24, min_samples_leaf=3, min_samples_split=4; total time=   1.3s\n",
            "[CV] END max_depth=24, min_samples_leaf=3, min_samples_split=4; total time=   1.3s\n",
            "[CV] END max_depth=24, min_samples_leaf=3, min_samples_split=4; total time=   1.4s\n"
          ]
        },
        {
          "output_type": "execute_result",
          "data": {
            "text/plain": [
              "GridSearchCV(cv=5, estimator=RandomForestClassifier(),\n",
              "             param_grid={'max_depth': array([16, 17, 18, 19, 20, 21, 22, 23, 24]),\n",
              "                         'min_samples_leaf': array([2, 3]),\n",
              "                         'min_samples_split': array([2, 3, 4])},\n",
              "             scoring=make_scorer(f1_score, average=macro), verbose=2)"
            ]
          },
          "metadata": {},
          "execution_count": 40
        }
      ],
      "source": [
        "modele_foret = RandomForestClassifier()\n",
        "f1 = make_scorer(f1_score , average='macro')\n",
        "modele_foret = GridSearchCV(modele_foret,\n",
        "                                  parameters,\n",
        "                                  scoring = f1,\n",
        "                                  verbose = 2, \n",
        "                                  cv = 5)\n",
        "modele_foret.fit(X_app_re, y_app_re)"
      ]
    },
    {
      "cell_type": "code",
      "execution_count": 41,
      "metadata": {
        "colab": {
          "base_uri": "https://localhost:8080/"
        },
        "id": "8EHNyuaAa_Ch",
        "outputId": "4350c264-0b2e-4284-fdbc-4b9d4eb80a05"
      },
      "outputs": [
        {
          "output_type": "stream",
          "name": "stdout",
          "text": [
            "Voici les paramètres du meilleure modèle : RandomForestClassifier(max_depth=19, min_samples_leaf=2, min_samples_split=4)\n",
            "Voici le make_scorer(f1_score, average=macro) du meilleure modèle : 0.8812429257131724\n"
          ]
        }
      ],
      "source": [
        "print(\"Voici les paramètres du meilleure modèle : \" + \n",
        "      str(modele_foret.best_estimator_))\n",
        "print(\"Voici le \"  + str(modele_foret.scorer_) + \n",
        "      \" du meilleure modèle : \" + str(modele_foret.best_score_))"
      ]
    },
    {
      "cell_type": "markdown",
      "source": [
        "On prédit sur X_test"
      ],
      "metadata": {
        "id": "X2WFBb3xverR"
      }
    },
    {
      "cell_type": "code",
      "execution_count": 42,
      "metadata": {
        "id": "rZCr6aur2Oio"
      },
      "outputs": [],
      "source": [
        "y_pred_foret = modele_foret.predict(X_test)"
      ]
    },
    {
      "cell_type": "markdown",
      "source": [
        "On évalue le modèle"
      ],
      "metadata": {
        "id": "KPlt-CHzvp4l"
      }
    },
    {
      "cell_type": "code",
      "source": [
        "from sklearn.metrics import accuracy_score\n",
        "print('f1_score : ' + \n",
        "      str(f1_score(y_test,y_pred_foret, average='macro')))\n",
        "print(\"taux d'erreur : \",1-accuracy_score(y_test,y_pred_foret))"
      ],
      "metadata": {
        "colab": {
          "base_uri": "https://localhost:8080/"
        },
        "id": "TJgDb4lHvq5A",
        "outputId": "d1c14955-fb52-4ab4-e5ff-d5ba15e2b3c2"
      },
      "execution_count": 43,
      "outputs": [
        {
          "output_type": "stream",
          "name": "stdout",
          "text": [
            "f1_score : 0.6430766790267891\n",
            "taux d'erreur :  0.16200000000000003\n"
          ]
        }
      ]
    },
    {
      "cell_type": "code",
      "execution_count": 44,
      "metadata": {
        "colab": {
          "base_uri": "https://localhost:8080/"
        },
        "id": "CucgouK5zlII",
        "outputId": "21557c77-b3d6-473a-c9bb-73c3284995aa"
      },
      "outputs": [
        {
          "output_type": "stream",
          "name": "stdout",
          "text": [
            "[[1577   86]\n",
            " [ 238   99]]\n"
          ]
        }
      ],
      "source": [
        "from sklearn import metrics\n",
        "cm = metrics.confusion_matrix(y_test,y_pred_foret)\n",
        "print(cm)"
      ]
    },
    {
      "cell_type": "markdown",
      "source": [
        "\n",
        "# Déploiement"
      ],
      "metadata": {
        "id": "7bAdmgAOd5Be"
      }
    },
    {
      "cell_type": "markdown",
      "source": [
        "Enregistrer le modèle en utilisant joblib.dump"
      ],
      "metadata": {
        "id": "nVxZm2LfZbKj"
      }
    },
    {
      "cell_type": "code",
      "source": [
        "filename = \"model.sav\"\n",
        "joblib.dump(modele_foret, filename)"
      ],
      "metadata": {
        "colab": {
          "base_uri": "https://localhost:8080/"
        },
        "id": "nRpp66N8ZbZq",
        "outputId": "a1a68570-6e5e-4eae-cd70-970a6a73de91"
      },
      "execution_count": 45,
      "outputs": [
        {
          "output_type": "execute_result",
          "data": {
            "text/plain": [
              "['model.sav']"
            ]
          },
          "metadata": {},
          "execution_count": 45
        }
      ]
    },
    {
      "cell_type": "markdown",
      "source": [
        "Charger le modèle"
      ],
      "metadata": {
        "id": "keVNOeDYZp28"
      }
    },
    {
      "cell_type": "code",
      "source": [
        "loaded_model = joblib.load(filename)"
      ],
      "metadata": {
        "id": "CvM8w9tYZqCa"
      },
      "execution_count": 46,
      "outputs": []
    },
    {
      "cell_type": "markdown",
      "metadata": {
        "id": "tFbryl0azTPT"
      },
      "source": [
        "# Prédiction sur file Submission"
      ]
    },
    {
      "cell_type": "markdown",
      "source": [
        "Importation des données du ficher \"submissions\""
      ],
      "metadata": {
        "id": "dD_GmN_5x-Qi"
      }
    },
    {
      "cell_type": "code",
      "execution_count": 47,
      "metadata": {
        "id": "TPcyUO-TvD49"
      },
      "outputs": [],
      "source": [
        "sub = pd.read_table(\"/content/drive/MyDrive/Colab Notebooks/submissions.csv\",sep=\";\",header=0,index_col=0)"
      ]
    },
    {
      "cell_type": "markdown",
      "source": [
        "On affiche une description du data frame.\n",
        "\n",
        "On voit qu'il y a 1574 observations et 62 variables, et il y a quelques colonnes qui contiennent des valeurs manquantes.\n",
        "\n",
        "On va donc faire le nettoyage sur ce fichier de la même façon que pour le fichier \"train\"."
      ],
      "metadata": {
        "id": "yJAjINpLyHra"
      }
    },
    {
      "cell_type": "code",
      "execution_count": 48,
      "metadata": {
        "colab": {
          "base_uri": "https://localhost:8080/"
        },
        "id": "uY9Vsy8KvX4G",
        "outputId": "c4980c19-f46e-4e32-902e-de34ac84b20d"
      },
      "outputs": [
        {
          "output_type": "stream",
          "name": "stdout",
          "text": [
            "<class 'pandas.core.frame.DataFrame'>\n",
            "Int64Index: 1574 entries, 6805 to 8378\n",
            "Data columns (total 62 columns):\n",
            " #   Column    Non-Null Count  Dtype  \n",
            "---  ------    --------------  -----  \n",
            " 0   iid       1574 non-null   int64  \n",
            " 1   id        1573 non-null   float64\n",
            " 2   gender    1574 non-null   int64  \n",
            " 3   idg       1574 non-null   int64  \n",
            " 4   condtn    1574 non-null   int64  \n",
            " 5   partner   1574 non-null   int64  \n",
            " 6   pid       1574 non-null   int64  \n",
            " 7   int_corr  1574 non-null   object \n",
            " 8   samerace  1574 non-null   int64  \n",
            " 9   age_o     1552 non-null   float64\n",
            " 10  race_o    1574 non-null   int64  \n",
            " 11  pf_o_att  1574 non-null   int64  \n",
            " 12  pf_o_sin  1574 non-null   int64  \n",
            " 13  pf_o_int  1574 non-null   int64  \n",
            " 14  pf_o_fun  1574 non-null   int64  \n",
            " 15  pf_o_amb  1574 non-null   int64  \n",
            " 16  pf_o_sha  1552 non-null   float64\n",
            " 17  attr_o    1503 non-null   float64\n",
            " 18  sinc_o    1494 non-null   float64\n",
            " 19  intel_o   1497 non-null   float64\n",
            " 20  fun_o     1491 non-null   float64\n",
            " 21  amb_o     1433 non-null   float64\n",
            " 22  shar_o    1421 non-null   float64\n",
            " 23  age       1552 non-null   float64\n",
            " 24  field     1574 non-null   object \n",
            " 25  field_cd  1574 non-null   float64\n",
            " 26  race      1574 non-null   int64  \n",
            " 27  imprace   1574 non-null   int64  \n",
            " 28  imprelig  1574 non-null   int64  \n",
            " 29  from      1574 non-null   object \n",
            " 30  zipcode   1406 non-null   object \n",
            " 31  income    723 non-null    object \n",
            " 32  goal      1574 non-null   int64  \n",
            " 33  date      1574 non-null   int64  \n",
            " 34  go_out    1574 non-null   int64  \n",
            " 35  career    1574 non-null   object \n",
            " 36  career_c  1559 non-null   float64\n",
            " 37  sports    1559 non-null   float64\n",
            " 38  tvsports  1559 non-null   float64\n",
            " 39  exercise  1559 non-null   float64\n",
            " 40  dining    1559 non-null   float64\n",
            " 41  museums   1559 non-null   float64\n",
            " 42  art       1559 non-null   float64\n",
            " 43  hiking    1559 non-null   float64\n",
            " 44  gaming    1559 non-null   float64\n",
            " 45  clubbing  1559 non-null   float64\n",
            " 46  reading   1559 non-null   float64\n",
            " 47  tv        1559 non-null   float64\n",
            " 48  theater   1559 non-null   float64\n",
            " 49  movies    1559 non-null   float64\n",
            " 50  concerts  1559 non-null   float64\n",
            " 51  music     1559 non-null   float64\n",
            " 52  shopping  1559 non-null   float64\n",
            " 53  yoga      1559 non-null   float64\n",
            " 54  exphappy  1537 non-null   float64\n",
            " 55  expnum    0 non-null      float64\n",
            " 56  attr1_1   1559 non-null   float64\n",
            " 57  sinc1_1   1559 non-null   float64\n",
            " 58  intel1_1  1559 non-null   float64\n",
            " 59  fun1_1    1559 non-null   float64\n",
            " 60  amb1_1    1559 non-null   float64\n",
            " 61  shar1_1   1537 non-null   float64\n",
            "dtypes: float64(37), int64(19), object(6)\n",
            "memory usage: 774.7+ KB\n"
          ]
        }
      ],
      "source": [
        "sub.info()"
      ]
    },
    {
      "cell_type": "markdown",
      "source": [
        "On supprime les variables inutiles"
      ],
      "metadata": {
        "id": "iA2FS15Cyu1f"
      }
    },
    {
      "cell_type": "code",
      "execution_count": 49,
      "metadata": {
        "id": "Ci5mHZ8AvZ8Z"
      },
      "outputs": [],
      "source": [
        "sub.drop([\"field\",\"career\",\"expnum\",\"iid\",\"id\",\"idg\",\"pid\",\"partner\",\"from\",\"income\"],axis=1,inplace=True)"
      ]
    },
    {
      "cell_type": "markdown",
      "source": [
        "On remplace des \",\" (virgule) par les \".\" (points) et transforme les variables en type \"float\"."
      ],
      "metadata": {
        "id": "HqvzdZtByxUB"
      }
    },
    {
      "cell_type": "code",
      "execution_count": 50,
      "metadata": {
        "id": "WvSPiVyhvieO"
      },
      "outputs": [],
      "source": [
        "col_convert1(sub,col_replaced1)"
      ]
    },
    {
      "cell_type": "markdown",
      "source": [
        "On enlève la virgule (,) et transforme la variable \"zipcode\" en type \"float\"."
      ],
      "metadata": {
        "id": "NXZPxA-qyylp"
      }
    },
    {
      "cell_type": "code",
      "execution_count": 51,
      "metadata": {
        "id": "eTJxz-LTvrhY"
      },
      "outputs": [],
      "source": [
        "sub[\"zipcode\"] = sub[\"zipcode\"].apply(lambda x: float(str(x).replace(',','')))"
      ]
    },
    {
      "cell_type": "markdown",
      "source": [
        "On remplace les valeurs manquantes par la moyenne"
      ],
      "metadata": {
        "id": "PcNw41FDyzR6"
      }
    },
    {
      "cell_type": "code",
      "execution_count": 52,
      "metadata": {
        "id": "HogEF2cIv1Dy"
      },
      "outputs": [],
      "source": [
        "columns_filled(sub,sub.columns)"
      ]
    },
    {
      "cell_type": "markdown",
      "source": [
        "On crée un nouveau data frame avec les variables explicatives"
      ],
      "metadata": {
        "id": "SkYBq8WYyz73"
      }
    },
    {
      "cell_type": "code",
      "source": [
        "sub = sub[features]"
      ],
      "metadata": {
        "id": "YazC8SgEW4qY"
      },
      "execution_count": 53,
      "outputs": []
    },
    {
      "cell_type": "markdown",
      "source": [
        "On applique la prédiction sur ce nouveau data frame"
      ],
      "metadata": {
        "id": "-O8l_ZuYy072"
      }
    },
    {
      "cell_type": "code",
      "execution_count": 54,
      "metadata": {
        "id": "IodaVrAYxG1K"
      },
      "outputs": [],
      "source": [
        "y_pred_sub = loaded_model.predict(sub)"
      ]
    },
    {
      "cell_type": "markdown",
      "source": [
        "On crée un nouveau data frame ne contenant que 2 colonnes: l'identifiant \"iid_pid\" et la prédiction \"target\"."
      ],
      "metadata": {
        "id": "19b4Si29y2Qd"
      }
    },
    {
      "cell_type": "code",
      "execution_count": 55,
      "metadata": {
        "colab": {
          "base_uri": "https://localhost:8080/",
          "height": 300
        },
        "id": "eYDn0nQFLK_I",
        "outputId": "14ecf71d-fb02-4151-c6c5-9fd3dc3a5718"
      },
      "outputs": [
        {
          "output_type": "execute_result",
          "data": {
            "text/plain": [
              "            target\n",
              "count  1574.000000\n",
              "mean      0.090851\n",
              "std       0.287489\n",
              "min       0.000000\n",
              "25%       0.000000\n",
              "50%       0.000000\n",
              "75%       0.000000\n",
              "max       1.000000"
            ],
            "text/html": [
              "\n",
              "  <div id=\"df-b042b839-cabc-4b64-bde0-d7a4d3e58ea4\">\n",
              "    <div class=\"colab-df-container\">\n",
              "      <div>\n",
              "<style scoped>\n",
              "    .dataframe tbody tr th:only-of-type {\n",
              "        vertical-align: middle;\n",
              "    }\n",
              "\n",
              "    .dataframe tbody tr th {\n",
              "        vertical-align: top;\n",
              "    }\n",
              "\n",
              "    .dataframe thead th {\n",
              "        text-align: right;\n",
              "    }\n",
              "</style>\n",
              "<table border=\"1\" class=\"dataframe\">\n",
              "  <thead>\n",
              "    <tr style=\"text-align: right;\">\n",
              "      <th></th>\n",
              "      <th>target</th>\n",
              "    </tr>\n",
              "  </thead>\n",
              "  <tbody>\n",
              "    <tr>\n",
              "      <th>count</th>\n",
              "      <td>1574.000000</td>\n",
              "    </tr>\n",
              "    <tr>\n",
              "      <th>mean</th>\n",
              "      <td>0.090851</td>\n",
              "    </tr>\n",
              "    <tr>\n",
              "      <th>std</th>\n",
              "      <td>0.287489</td>\n",
              "    </tr>\n",
              "    <tr>\n",
              "      <th>min</th>\n",
              "      <td>0.000000</td>\n",
              "    </tr>\n",
              "    <tr>\n",
              "      <th>25%</th>\n",
              "      <td>0.000000</td>\n",
              "    </tr>\n",
              "    <tr>\n",
              "      <th>50%</th>\n",
              "      <td>0.000000</td>\n",
              "    </tr>\n",
              "    <tr>\n",
              "      <th>75%</th>\n",
              "      <td>0.000000</td>\n",
              "    </tr>\n",
              "    <tr>\n",
              "      <th>max</th>\n",
              "      <td>1.000000</td>\n",
              "    </tr>\n",
              "  </tbody>\n",
              "</table>\n",
              "</div>\n",
              "      <button class=\"colab-df-convert\" onclick=\"convertToInteractive('df-b042b839-cabc-4b64-bde0-d7a4d3e58ea4')\"\n",
              "              title=\"Convert this dataframe to an interactive table.\"\n",
              "              style=\"display:none;\">\n",
              "        \n",
              "  <svg xmlns=\"http://www.w3.org/2000/svg\" height=\"24px\"viewBox=\"0 0 24 24\"\n",
              "       width=\"24px\">\n",
              "    <path d=\"M0 0h24v24H0V0z\" fill=\"none\"/>\n",
              "    <path d=\"M18.56 5.44l.94 2.06.94-2.06 2.06-.94-2.06-.94-.94-2.06-.94 2.06-2.06.94zm-11 1L8.5 8.5l.94-2.06 2.06-.94-2.06-.94L8.5 2.5l-.94 2.06-2.06.94zm10 10l.94 2.06.94-2.06 2.06-.94-2.06-.94-.94-2.06-.94 2.06-2.06.94z\"/><path d=\"M17.41 7.96l-1.37-1.37c-.4-.4-.92-.59-1.43-.59-.52 0-1.04.2-1.43.59L10.3 9.45l-7.72 7.72c-.78.78-.78 2.05 0 2.83L4 21.41c.39.39.9.59 1.41.59.51 0 1.02-.2 1.41-.59l7.78-7.78 2.81-2.81c.8-.78.8-2.07 0-2.86zM5.41 20L4 18.59l7.72-7.72 1.47 1.35L5.41 20z\"/>\n",
              "  </svg>\n",
              "      </button>\n",
              "      \n",
              "  <style>\n",
              "    .colab-df-container {\n",
              "      display:flex;\n",
              "      flex-wrap:wrap;\n",
              "      gap: 12px;\n",
              "    }\n",
              "\n",
              "    .colab-df-convert {\n",
              "      background-color: #E8F0FE;\n",
              "      border: none;\n",
              "      border-radius: 50%;\n",
              "      cursor: pointer;\n",
              "      display: none;\n",
              "      fill: #1967D2;\n",
              "      height: 32px;\n",
              "      padding: 0 0 0 0;\n",
              "      width: 32px;\n",
              "    }\n",
              "\n",
              "    .colab-df-convert:hover {\n",
              "      background-color: #E2EBFA;\n",
              "      box-shadow: 0px 1px 2px rgba(60, 64, 67, 0.3), 0px 1px 3px 1px rgba(60, 64, 67, 0.15);\n",
              "      fill: #174EA6;\n",
              "    }\n",
              "\n",
              "    [theme=dark] .colab-df-convert {\n",
              "      background-color: #3B4455;\n",
              "      fill: #D2E3FC;\n",
              "    }\n",
              "\n",
              "    [theme=dark] .colab-df-convert:hover {\n",
              "      background-color: #434B5C;\n",
              "      box-shadow: 0px 1px 3px 1px rgba(0, 0, 0, 0.15);\n",
              "      filter: drop-shadow(0px 1px 2px rgba(0, 0, 0, 0.3));\n",
              "      fill: #FFFFFF;\n",
              "    }\n",
              "  </style>\n",
              "\n",
              "      <script>\n",
              "        const buttonEl =\n",
              "          document.querySelector('#df-b042b839-cabc-4b64-bde0-d7a4d3e58ea4 button.colab-df-convert');\n",
              "        buttonEl.style.display =\n",
              "          google.colab.kernel.accessAllowed ? 'block' : 'none';\n",
              "\n",
              "        async function convertToInteractive(key) {\n",
              "          const element = document.querySelector('#df-b042b839-cabc-4b64-bde0-d7a4d3e58ea4');\n",
              "          const dataTable =\n",
              "            await google.colab.kernel.invokeFunction('convertToInteractive',\n",
              "                                                     [key], {});\n",
              "          if (!dataTable) return;\n",
              "\n",
              "          const docLinkHtml = 'Like what you see? Visit the ' +\n",
              "            '<a target=\"_blank\" href=https://colab.research.google.com/notebooks/data_table.ipynb>data table notebook</a>'\n",
              "            + ' to learn more about interactive tables.';\n",
              "          element.innerHTML = '';\n",
              "          dataTable['output_type'] = 'display_data';\n",
              "          await google.colab.output.renderOutput(dataTable, element);\n",
              "          const docLink = document.createElement('div');\n",
              "          docLink.innerHTML = docLinkHtml;\n",
              "          element.appendChild(docLink);\n",
              "        }\n",
              "      </script>\n",
              "    </div>\n",
              "  </div>\n",
              "  "
            ]
          },
          "metadata": {},
          "execution_count": 55
        }
      ],
      "source": [
        "my_submission = pd.DataFrame(y_pred_sub,columns=[\"target\"],index=sub.index)\n",
        "my_submission.describe()"
      ]
    },
    {
      "cell_type": "markdown",
      "source": [
        "On exporte le data frame en format csv"
      ],
      "metadata": {
        "id": "or_FFD13qcfc"
      }
    },
    {
      "cell_type": "code",
      "execution_count": 56,
      "metadata": {
        "id": "xXWRlzOiMIKC"
      },
      "outputs": [],
      "source": [
        "my_submission.to_csv(\"my_submission.csv\", header=True)"
      ]
    }
  ],
  "metadata": {
    "colab": {
      "collapsed_sections": [],
      "provenance": [],
      "include_colab_link": true
    },
    "kernelspec": {
      "display_name": "Python 3",
      "name": "python3"
    },
    "language_info": {
      "name": "python"
    }
  },
  "nbformat": 4,
  "nbformat_minor": 0
}